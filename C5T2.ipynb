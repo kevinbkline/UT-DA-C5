{
 "cells": [
  {
   "cell_type": "code",
   "execution_count": 68,
   "metadata": {},
   "outputs": [],
   "source": [
    "import pandas as pd"
   ]
  },
  {
   "cell_type": "code",
   "execution_count": 10,
   "metadata": {},
   "outputs": [],
   "source": [
    "credit = pd.read_csv('Z:/C5T2 - Prep and Explore/data for import final.csv', header =1)"
   ]
  },
  {
   "cell_type": "code",
   "execution_count": 11,
   "metadata": {},
   "outputs": [
    {
     "data": {
      "text/html": [
       "<div>\n",
       "<style scoped>\n",
       "    .dataframe tbody tr th:only-of-type {\n",
       "        vertical-align: middle;\n",
       "    }\n",
       "\n",
       "    .dataframe tbody tr th {\n",
       "        vertical-align: top;\n",
       "    }\n",
       "\n",
       "    .dataframe thead th {\n",
       "        text-align: right;\n",
       "    }\n",
       "</style>\n",
       "<table border=\"1\" class=\"dataframe\">\n",
       "  <thead>\n",
       "    <tr style=\"text-align: right;\">\n",
       "      <th></th>\n",
       "      <th>ID</th>\n",
       "      <th>default payment next month</th>\n",
       "      <th>LIMIT_BAL</th>\n",
       "      <th>SEX</th>\n",
       "      <th>EDUCATION</th>\n",
       "      <th>MARRIAGE</th>\n",
       "      <th>AGE</th>\n",
       "      <th>PAY_0</th>\n",
       "      <th>PAY_2</th>\n",
       "      <th>PAY_3</th>\n",
       "      <th>...</th>\n",
       "      <th>AveAddl</th>\n",
       "      <th>RatioPayBill</th>\n",
       "      <th>RatioAddlBill</th>\n",
       "      <th>RatioPayAddl</th>\n",
       "      <th>RatioBillLimit</th>\n",
       "      <th>RatioPayLimit</th>\n",
       "      <th>RatioAddlLimit</th>\n",
       "      <th>AveOpenCred</th>\n",
       "      <th>RatioOpenLimit</th>\n",
       "      <th>RatioAddlOpen</th>\n",
       "    </tr>\n",
       "  </thead>\n",
       "  <tbody>\n",
       "    <tr>\n",
       "      <th>0</th>\n",
       "      <td>1</td>\n",
       "      <td>1</td>\n",
       "      <td>20000</td>\n",
       "      <td>2</td>\n",
       "      <td>2</td>\n",
       "      <td>1</td>\n",
       "      <td>24</td>\n",
       "      <td>2</td>\n",
       "      <td>2</td>\n",
       "      <td>-1</td>\n",
       "      <td>...</td>\n",
       "      <td>920</td>\n",
       "      <td>0.09</td>\n",
       "      <td>0.72</td>\n",
       "      <td>0.12</td>\n",
       "      <td>0.06</td>\n",
       "      <td>0.01</td>\n",
       "      <td>0.05</td>\n",
       "      <td>18,716</td>\n",
       "      <td>0.94</td>\n",
       "      <td>0.05</td>\n",
       "    </tr>\n",
       "    <tr>\n",
       "      <th>1</th>\n",
       "      <td>2</td>\n",
       "      <td>1</td>\n",
       "      <td>120000</td>\n",
       "      <td>2</td>\n",
       "      <td>2</td>\n",
       "      <td>2</td>\n",
       "      <td>26</td>\n",
       "      <td>-1</td>\n",
       "      <td>2</td>\n",
       "      <td>0</td>\n",
       "      <td>...</td>\n",
       "      <td>484</td>\n",
       "      <td>0.29</td>\n",
       "      <td>0.17</td>\n",
       "      <td>1.72</td>\n",
       "      <td>0.02</td>\n",
       "      <td>0.01</td>\n",
       "      <td>0.00</td>\n",
       "      <td>117,154</td>\n",
       "      <td>0.98</td>\n",
       "      <td>0.00</td>\n",
       "    </tr>\n",
       "    <tr>\n",
       "      <th>2</th>\n",
       "      <td>3</td>\n",
       "      <td>0</td>\n",
       "      <td>90000</td>\n",
       "      <td>2</td>\n",
       "      <td>2</td>\n",
       "      <td>2</td>\n",
       "      <td>34</td>\n",
       "      <td>0</td>\n",
       "      <td>0</td>\n",
       "      <td>0</td>\n",
       "      <td>...</td>\n",
       "      <td>3,942</td>\n",
       "      <td>0.11</td>\n",
       "      <td>0.23</td>\n",
       "      <td>0.47</td>\n",
       "      <td>0.19</td>\n",
       "      <td>0.02</td>\n",
       "      <td>0.04</td>\n",
       "      <td>73,058</td>\n",
       "      <td>0.81</td>\n",
       "      <td>0.05</td>\n",
       "    </tr>\n",
       "    <tr>\n",
       "      <th>3</th>\n",
       "      <td>4</td>\n",
       "      <td>0</td>\n",
       "      <td>50000</td>\n",
       "      <td>2</td>\n",
       "      <td>2</td>\n",
       "      <td>1</td>\n",
       "      <td>37</td>\n",
       "      <td>0</td>\n",
       "      <td>0</td>\n",
       "      <td>0</td>\n",
       "      <td>...</td>\n",
       "      <td>4,966</td>\n",
       "      <td>0.04</td>\n",
       "      <td>0.13</td>\n",
       "      <td>0.28</td>\n",
       "      <td>0.77</td>\n",
       "      <td>0.03</td>\n",
       "      <td>0.10</td>\n",
       "      <td>11,444</td>\n",
       "      <td>0.23</td>\n",
       "      <td>0.43</td>\n",
       "    </tr>\n",
       "    <tr>\n",
       "      <th>4</th>\n",
       "      <td>5</td>\n",
       "      <td>0</td>\n",
       "      <td>50000</td>\n",
       "      <td>1</td>\n",
       "      <td>2</td>\n",
       "      <td>1</td>\n",
       "      <td>57</td>\n",
       "      <td>-1</td>\n",
       "      <td>0</td>\n",
       "      <td>-1</td>\n",
       "      <td>...</td>\n",
       "      <td>9,571</td>\n",
       "      <td>0.54</td>\n",
       "      <td>0.53</td>\n",
       "      <td>1.03</td>\n",
       "      <td>0.36</td>\n",
       "      <td>0.20</td>\n",
       "      <td>0.19</td>\n",
       "      <td>31,777</td>\n",
       "      <td>0.64</td>\n",
       "      <td>0.30</td>\n",
       "    </tr>\n",
       "  </tbody>\n",
       "</table>\n",
       "<p>5 rows × 42 columns</p>\n",
       "</div>"
      ],
      "text/plain": [
       "   ID  default payment next month  LIMIT_BAL  SEX  EDUCATION  MARRIAGE  AGE  \\\n",
       "0   1                           1      20000    2          2         1   24   \n",
       "1   2                           1     120000    2          2         2   26   \n",
       "2   3                           0      90000    2          2         2   34   \n",
       "3   4                           0      50000    2          2         1   37   \n",
       "4   5                           0      50000    1          2         1   57   \n",
       "\n",
       "   PAY_0  PAY_2  PAY_3      ...       AveAddl  RatioPayBill  RatioAddlBill  \\\n",
       "0      2      2     -1      ...          920           0.09           0.72   \n",
       "1     -1      2      0      ...          484           0.29           0.17   \n",
       "2      0      0      0      ...        3,942           0.11           0.23   \n",
       "3      0      0      0      ...        4,966           0.04           0.13   \n",
       "4     -1      0     -1      ...        9,571           0.54           0.53   \n",
       "\n",
       "  RatioPayAddl RatioBillLimit RatioPayLimit RatioAddlLimit AveOpenCred  \\\n",
       "0         0.12          0.06          0.01           0.05      18,716    \n",
       "1         1.72          0.02          0.01           0.00     117,154    \n",
       "2         0.47          0.19          0.02           0.04      73,058    \n",
       "3         0.28          0.77          0.03           0.10      11,444    \n",
       "4         1.03          0.36          0.20           0.19      31,777    \n",
       "\n",
       "  RatioOpenLimit RatioAddlOpen  \n",
       "0          0.94           0.05  \n",
       "1          0.98           0.00  \n",
       "2          0.81           0.05  \n",
       "3          0.23           0.43  \n",
       "4          0.64           0.30  \n",
       "\n",
       "[5 rows x 42 columns]"
      ]
     },
     "execution_count": 11,
     "metadata": {},
     "output_type": "execute_result"
    }
   ],
   "source": [
    "credit.head()"
   ]
  },
  {
   "cell_type": "code",
   "execution_count": 12,
   "metadata": {},
   "outputs": [
    {
     "data": {
      "text/html": [
       "<div>\n",
       "<style scoped>\n",
       "    .dataframe tbody tr th:only-of-type {\n",
       "        vertical-align: middle;\n",
       "    }\n",
       "\n",
       "    .dataframe tbody tr th {\n",
       "        vertical-align: top;\n",
       "    }\n",
       "\n",
       "    .dataframe thead th {\n",
       "        text-align: right;\n",
       "    }\n",
       "</style>\n",
       "<table border=\"1\" class=\"dataframe\">\n",
       "  <thead>\n",
       "    <tr style=\"text-align: right;\">\n",
       "      <th></th>\n",
       "      <th>ID</th>\n",
       "      <th>default payment next month</th>\n",
       "      <th>LIMIT_BAL</th>\n",
       "      <th>SEX</th>\n",
       "      <th>EDUCATION</th>\n",
       "      <th>MARRIAGE</th>\n",
       "      <th>AGE</th>\n",
       "      <th>PAY_0</th>\n",
       "      <th>PAY_2</th>\n",
       "      <th>PAY_3</th>\n",
       "      <th>PAY_4</th>\n",
       "      <th>PAY_5</th>\n",
       "      <th>PAY_6</th>\n",
       "      <th>RatioPayBill</th>\n",
       "      <th>RatioAddlBill</th>\n",
       "      <th>RatioPayAddl</th>\n",
       "      <th>RatioAddlOpen</th>\n",
       "    </tr>\n",
       "  </thead>\n",
       "  <tbody>\n",
       "    <tr>\n",
       "      <th>count</th>\n",
       "      <td>30000.000000</td>\n",
       "      <td>30000.000000</td>\n",
       "      <td>30000.000000</td>\n",
       "      <td>30000.000000</td>\n",
       "      <td>30000.000000</td>\n",
       "      <td>30000.000000</td>\n",
       "      <td>30000.000000</td>\n",
       "      <td>30000.000000</td>\n",
       "      <td>30000.000000</td>\n",
       "      <td>30000.000000</td>\n",
       "      <td>30000.000000</td>\n",
       "      <td>30000.000000</td>\n",
       "      <td>30000.000000</td>\n",
       "      <td>30000.000000</td>\n",
       "      <td>29130.000000</td>\n",
       "      <td>30000.000000</td>\n",
       "      <td>30000.000000</td>\n",
       "    </tr>\n",
       "    <tr>\n",
       "      <th>mean</th>\n",
       "      <td>15000.500000</td>\n",
       "      <td>0.221200</td>\n",
       "      <td>167484.322667</td>\n",
       "      <td>1.603733</td>\n",
       "      <td>1.853133</td>\n",
       "      <td>1.551867</td>\n",
       "      <td>35.485500</td>\n",
       "      <td>-0.016700</td>\n",
       "      <td>-0.133767</td>\n",
       "      <td>-0.166200</td>\n",
       "      <td>-0.220667</td>\n",
       "      <td>-0.266200</td>\n",
       "      <td>-0.291100</td>\n",
       "      <td>0.409982</td>\n",
       "      <td>0.411834</td>\n",
       "      <td>1.760300</td>\n",
       "      <td>0.089385</td>\n",
       "    </tr>\n",
       "    <tr>\n",
       "      <th>std</th>\n",
       "      <td>8660.398374</td>\n",
       "      <td>0.415062</td>\n",
       "      <td>129747.661567</td>\n",
       "      <td>0.489129</td>\n",
       "      <td>0.790349</td>\n",
       "      <td>0.521970</td>\n",
       "      <td>9.217904</td>\n",
       "      <td>1.123802</td>\n",
       "      <td>1.197186</td>\n",
       "      <td>1.196868</td>\n",
       "      <td>1.169139</td>\n",
       "      <td>1.133187</td>\n",
       "      <td>1.149988</td>\n",
       "      <td>7.671398</td>\n",
       "      <td>5.398450</td>\n",
       "      <td>48.829449</td>\n",
       "      <td>17.914280</td>\n",
       "    </tr>\n",
       "    <tr>\n",
       "      <th>min</th>\n",
       "      <td>1.000000</td>\n",
       "      <td>0.000000</td>\n",
       "      <td>10000.000000</td>\n",
       "      <td>1.000000</td>\n",
       "      <td>0.000000</td>\n",
       "      <td>0.000000</td>\n",
       "      <td>21.000000</td>\n",
       "      <td>-2.000000</td>\n",
       "      <td>-2.000000</td>\n",
       "      <td>-2.000000</td>\n",
       "      <td>-2.000000</td>\n",
       "      <td>-2.000000</td>\n",
       "      <td>-2.000000</td>\n",
       "      <td>-546.930000</td>\n",
       "      <td>-635.660000</td>\n",
       "      <td>-99.070000</td>\n",
       "      <td>-2830.650000</td>\n",
       "    </tr>\n",
       "    <tr>\n",
       "      <th>25%</th>\n",
       "      <td>7500.750000</td>\n",
       "      <td>0.000000</td>\n",
       "      <td>50000.000000</td>\n",
       "      <td>1.000000</td>\n",
       "      <td>1.000000</td>\n",
       "      <td>1.000000</td>\n",
       "      <td>28.000000</td>\n",
       "      <td>-1.000000</td>\n",
       "      <td>-1.000000</td>\n",
       "      <td>-1.000000</td>\n",
       "      <td>-1.000000</td>\n",
       "      <td>-1.000000</td>\n",
       "      <td>-1.000000</td>\n",
       "      <td>0.040000</td>\n",
       "      <td>0.060000</td>\n",
       "      <td>0.410000</td>\n",
       "      <td>0.010000</td>\n",
       "    </tr>\n",
       "    <tr>\n",
       "      <th>50%</th>\n",
       "      <td>15000.500000</td>\n",
       "      <td>0.000000</td>\n",
       "      <td>140000.000000</td>\n",
       "      <td>2.000000</td>\n",
       "      <td>2.000000</td>\n",
       "      <td>2.000000</td>\n",
       "      <td>34.000000</td>\n",
       "      <td>0.000000</td>\n",
       "      <td>0.000000</td>\n",
       "      <td>0.000000</td>\n",
       "      <td>0.000000</td>\n",
       "      <td>0.000000</td>\n",
       "      <td>0.000000</td>\n",
       "      <td>0.100000</td>\n",
       "      <td>0.220000</td>\n",
       "      <td>0.860000</td>\n",
       "      <td>0.050000</td>\n",
       "    </tr>\n",
       "    <tr>\n",
       "      <th>75%</th>\n",
       "      <td>22500.250000</td>\n",
       "      <td>0.000000</td>\n",
       "      <td>240000.000000</td>\n",
       "      <td>2.000000</td>\n",
       "      <td>2.000000</td>\n",
       "      <td>2.000000</td>\n",
       "      <td>41.000000</td>\n",
       "      <td>0.000000</td>\n",
       "      <td>0.000000</td>\n",
       "      <td>0.000000</td>\n",
       "      <td>0.000000</td>\n",
       "      <td>0.000000</td>\n",
       "      <td>0.000000</td>\n",
       "      <td>0.690000</td>\n",
       "      <td>0.760000</td>\n",
       "      <td>1.380000</td>\n",
       "      <td>0.270000</td>\n",
       "    </tr>\n",
       "    <tr>\n",
       "      <th>max</th>\n",
       "      <td>30000.000000</td>\n",
       "      <td>1.000000</td>\n",
       "      <td>1000000.000000</td>\n",
       "      <td>2.000000</td>\n",
       "      <td>6.000000</td>\n",
       "      <td>3.000000</td>\n",
       "      <td>79.000000</td>\n",
       "      <td>8.000000</td>\n",
       "      <td>8.000000</td>\n",
       "      <td>8.000000</td>\n",
       "      <td>8.000000</td>\n",
       "      <td>8.000000</td>\n",
       "      <td>8.000000</td>\n",
       "      <td>797.000000</td>\n",
       "      <td>460.650000</td>\n",
       "      <td>8352.500000</td>\n",
       "      <td>401.760000</td>\n",
       "    </tr>\n",
       "  </tbody>\n",
       "</table>\n",
       "</div>"
      ],
      "text/plain": [
       "                 ID  default payment next month       LIMIT_BAL           SEX  \\\n",
       "count  30000.000000                30000.000000    30000.000000  30000.000000   \n",
       "mean   15000.500000                    0.221200   167484.322667      1.603733   \n",
       "std     8660.398374                    0.415062   129747.661567      0.489129   \n",
       "min        1.000000                    0.000000    10000.000000      1.000000   \n",
       "25%     7500.750000                    0.000000    50000.000000      1.000000   \n",
       "50%    15000.500000                    0.000000   140000.000000      2.000000   \n",
       "75%    22500.250000                    0.000000   240000.000000      2.000000   \n",
       "max    30000.000000                    1.000000  1000000.000000      2.000000   \n",
       "\n",
       "          EDUCATION      MARRIAGE           AGE         PAY_0         PAY_2  \\\n",
       "count  30000.000000  30000.000000  30000.000000  30000.000000  30000.000000   \n",
       "mean       1.853133      1.551867     35.485500     -0.016700     -0.133767   \n",
       "std        0.790349      0.521970      9.217904      1.123802      1.197186   \n",
       "min        0.000000      0.000000     21.000000     -2.000000     -2.000000   \n",
       "25%        1.000000      1.000000     28.000000     -1.000000     -1.000000   \n",
       "50%        2.000000      2.000000     34.000000      0.000000      0.000000   \n",
       "75%        2.000000      2.000000     41.000000      0.000000      0.000000   \n",
       "max        6.000000      3.000000     79.000000      8.000000      8.000000   \n",
       "\n",
       "              PAY_3         PAY_4         PAY_5         PAY_6  RatioPayBill  \\\n",
       "count  30000.000000  30000.000000  30000.000000  30000.000000  30000.000000   \n",
       "mean      -0.166200     -0.220667     -0.266200     -0.291100      0.409982   \n",
       "std        1.196868      1.169139      1.133187      1.149988      7.671398   \n",
       "min       -2.000000     -2.000000     -2.000000     -2.000000   -546.930000   \n",
       "25%       -1.000000     -1.000000     -1.000000     -1.000000      0.040000   \n",
       "50%        0.000000      0.000000      0.000000      0.000000      0.100000   \n",
       "75%        0.000000      0.000000      0.000000      0.000000      0.690000   \n",
       "max        8.000000      8.000000      8.000000      8.000000    797.000000   \n",
       "\n",
       "       RatioAddlBill  RatioPayAddl  RatioAddlOpen  \n",
       "count   29130.000000  30000.000000   30000.000000  \n",
       "mean        0.411834      1.760300       0.089385  \n",
       "std         5.398450     48.829449      17.914280  \n",
       "min      -635.660000    -99.070000   -2830.650000  \n",
       "25%         0.060000      0.410000       0.010000  \n",
       "50%         0.220000      0.860000       0.050000  \n",
       "75%         0.760000      1.380000       0.270000  \n",
       "max       460.650000   8352.500000     401.760000  "
      ]
     },
     "execution_count": 12,
     "metadata": {},
     "output_type": "execute_result"
    }
   ],
   "source": [
    "credit.describe()"
   ]
  },
  {
   "cell_type": "code",
   "execution_count": 13,
   "metadata": {},
   "outputs": [
    {
     "name": "stdout",
     "output_type": "stream",
     "text": [
      "<class 'pandas.core.frame.DataFrame'>\n",
      "RangeIndex: 30000 entries, 0 to 29999\n",
      "Data columns (total 42 columns):\n",
      "ID                            30000 non-null int64\n",
      "default payment next month    30000 non-null int64\n",
      "LIMIT_BAL                     30000 non-null int64\n",
      "SEX                           30000 non-null int64\n",
      "EDUCATION                     30000 non-null int64\n",
      "MARRIAGE                      30000 non-null int64\n",
      "AGE                           30000 non-null int64\n",
      "PAY_0                         30000 non-null int64\n",
      "PAY_2                         30000 non-null int64\n",
      "PAY_3                         30000 non-null int64\n",
      "PAY_4                         30000 non-null int64\n",
      "PAY_5                         30000 non-null int64\n",
      "PAY_6                         30000 non-null int64\n",
      "BILL_AMT1                     30000 non-null object\n",
      "BILL_AMT2                     30000 non-null object\n",
      "BILL_AMT3                     30000 non-null object\n",
      "BILL_AMT4                     30000 non-null object\n",
      "BILL_AMT5                     30000 non-null object\n",
      "BILL_AMT6                     30000 non-null object\n",
      "PAY_AMT1                      30000 non-null object\n",
      "PAY_AMT2                      30000 non-null object\n",
      "PAY_AMT3                      30000 non-null object\n",
      "PAY_AMT4                      30000 non-null object\n",
      "PAY_AMT5                      30000 non-null object\n",
      "PAY_AMT6                      30000 non-null object\n",
      "Addl1                         30000 non-null object\n",
      "Addl2                         30000 non-null object\n",
      "Addl3                         30000 non-null object\n",
      "Addl4                         30000 non-null object\n",
      "Addl5                         30000 non-null object\n",
      "AveBill                       30000 non-null object\n",
      "AvePay                        30000 non-null object\n",
      "AveAddl                       30000 non-null object\n",
      "RatioPayBill                  30000 non-null float64\n",
      "RatioAddlBill                 29130 non-null float64\n",
      "RatioPayAddl                  30000 non-null float64\n",
      "RatioBillLimit                30000 non-null object\n",
      "RatioPayLimit                 30000 non-null object\n",
      "RatioAddlLimit                30000 non-null object\n",
      "AveOpenCred                   30000 non-null object\n",
      "RatioOpenLimit                30000 non-null object\n",
      "RatioAddlOpen                 30000 non-null float64\n",
      "dtypes: float64(4), int64(13), object(25)\n",
      "memory usage: 9.6+ MB\n"
     ]
    }
   ],
   "source": [
    "credit.info()"
   ]
  },
  {
   "cell_type": "code",
   "execution_count": 17,
   "metadata": {},
   "outputs": [
    {
     "data": {
      "text/plain": [
       "count     30000\n",
       "unique    22723\n",
       "top        -   \n",
       "freq       2008\n",
       "Name: BILL_AMT1, dtype: object"
      ]
     },
     "execution_count": 17,
     "metadata": {},
     "output_type": "execute_result"
    }
   ],
   "source": [
    "credit.BILL_AMT1.describe()"
   ]
  },
  {
   "cell_type": "code",
   "execution_count": 18,
   "metadata": {},
   "outputs": [
    {
     "data": {
      "text/plain": [
       "0      3,913 \n",
       "1      2,682 \n",
       "2     29,239 \n",
       "3     46,990 \n",
       "4      8,617 \n",
       "Name: BILL_AMT1, dtype: object"
      ]
     },
     "execution_count": 18,
     "metadata": {},
     "output_type": "execute_result"
    }
   ],
   "source": [
    "credit.BILL_AMT1.head()"
   ]
  },
  {
   "cell_type": "code",
   "execution_count": 72,
   "metadata": {},
   "outputs": [
    {
     "name": "stdout",
     "output_type": "stream",
     "text": [
      "<class 'pandas.core.frame.DataFrame'>\n",
      "RangeIndex: 30000 entries, 0 to 29999\n",
      "Data columns (total 42 columns):\n",
      "ID                            30000 non-null int64\n",
      "default payment next month    30000 non-null int64\n",
      "LIMIT_BAL                     30000 non-null int64\n",
      "SEX                           30000 non-null int64\n",
      "EDUCATION                     30000 non-null int64\n",
      "MARRIAGE                      30000 non-null int64\n",
      "AGE                           30000 non-null int64\n",
      "PAY_0                         30000 non-null int64\n",
      "PAY_2                         30000 non-null int64\n",
      "PAY_3                         30000 non-null int64\n",
      "PAY_4                         30000 non-null int64\n",
      "PAY_5                         30000 non-null int64\n",
      "PAY_6                         30000 non-null int64\n",
      "BILL_AMT1                     30000 non-null int64\n",
      "BILL_AMT2                     30000 non-null int64\n",
      "BILL_AMT3                     30000 non-null int64\n",
      "BILL_AMT4                     30000 non-null int64\n",
      "BILL_AMT5                     30000 non-null int64\n",
      "BILL_AMT6                     30000 non-null int64\n",
      "PAY_AMT1                      30000 non-null int64\n",
      "PAY_AMT2                      30000 non-null int64\n",
      "PAY_AMT3                      30000 non-null int64\n",
      "PAY_AMT4                      30000 non-null int64\n",
      "PAY_AMT5                      30000 non-null int64\n",
      "PAY_AMT6                      30000 non-null int64\n",
      "Addl1                         30000 non-null int64\n",
      "Addl2                         30000 non-null int64\n",
      "Addl3                         30000 non-null int64\n",
      "Addl4                         30000 non-null int64\n",
      "Addl5                         30000 non-null int64\n",
      "AveBill                       30000 non-null float64\n",
      "AvePay                        30000 non-null float64\n",
      "AveAddl                       30000 non-null float64\n",
      "RatioPayBill                  30000 non-null float64\n",
      "RatioAddlBill                 29130 non-null float64\n",
      "RatioPayAddl                  30000 non-null float64\n",
      "RatioBillLimit                30000 non-null float64\n",
      "RatioPayLimit                 30000 non-null float64\n",
      "RatioAddlLimit                30000 non-null float64\n",
      "AveOpenCred                   30000 non-null float64\n",
      "RatioOpenLimit                30000 non-null float64\n",
      "RatioAddlOpen                 30000 non-null float64\n",
      "dtypes: float64(12), int64(30)\n",
      "memory usage: 9.6 MB\n"
     ]
    }
   ],
   "source": [
    "#commas are throwing the data types off it looks like.  Will tweak csv and reread\n",
    "credit = pd.read_csv('Z:/C5T2 - Prep and Explore/data for import final.csv', header =1)\n",
    "credit.info()"
   ]
  },
  {
   "cell_type": "code",
   "execution_count": 74,
   "metadata": {},
   "outputs": [
    {
     "data": {
      "text/html": [
       "<div>\n",
       "<style scoped>\n",
       "    .dataframe tbody tr th:only-of-type {\n",
       "        vertical-align: middle;\n",
       "    }\n",
       "\n",
       "    .dataframe tbody tr th {\n",
       "        vertical-align: top;\n",
       "    }\n",
       "\n",
       "    .dataframe thead th {\n",
       "        text-align: right;\n",
       "    }\n",
       "</style>\n",
       "<table border=\"1\" class=\"dataframe\">\n",
       "  <thead>\n",
       "    <tr style=\"text-align: right;\">\n",
       "      <th></th>\n",
       "      <th>ID</th>\n",
       "      <th>default payment next month</th>\n",
       "      <th>LIMIT_BAL</th>\n",
       "      <th>SEX</th>\n",
       "      <th>EDUCATION</th>\n",
       "      <th>MARRIAGE</th>\n",
       "      <th>AGE</th>\n",
       "      <th>PAY_0</th>\n",
       "      <th>PAY_2</th>\n",
       "      <th>PAY_3</th>\n",
       "      <th>...</th>\n",
       "      <th>AveAddl</th>\n",
       "      <th>RatioPayBill</th>\n",
       "      <th>RatioAddlBill</th>\n",
       "      <th>RatioPayAddl</th>\n",
       "      <th>RatioBillLimit</th>\n",
       "      <th>RatioPayLimit</th>\n",
       "      <th>RatioAddlLimit</th>\n",
       "      <th>AveOpenCred</th>\n",
       "      <th>RatioOpenLimit</th>\n",
       "      <th>RatioAddlOpen</th>\n",
       "    </tr>\n",
       "  </thead>\n",
       "  <tbody>\n",
       "    <tr>\n",
       "      <th>0</th>\n",
       "      <td>1</td>\n",
       "      <td>1</td>\n",
       "      <td>20000</td>\n",
       "      <td>2</td>\n",
       "      <td>2</td>\n",
       "      <td>1</td>\n",
       "      <td>24</td>\n",
       "      <td>2</td>\n",
       "      <td>2</td>\n",
       "      <td>-1</td>\n",
       "      <td>...</td>\n",
       "      <td>920.4</td>\n",
       "      <td>0.089</td>\n",
       "      <td>0.717</td>\n",
       "      <td>0.125</td>\n",
       "      <td>0.064</td>\n",
       "      <td>0.006</td>\n",
       "      <td>0.046</td>\n",
       "      <td>18716.00</td>\n",
       "      <td>0.936</td>\n",
       "      <td>0.049</td>\n",
       "    </tr>\n",
       "    <tr>\n",
       "      <th>1</th>\n",
       "      <td>2</td>\n",
       "      <td>1</td>\n",
       "      <td>120000</td>\n",
       "      <td>2</td>\n",
       "      <td>2</td>\n",
       "      <td>2</td>\n",
       "      <td>26</td>\n",
       "      <td>-1</td>\n",
       "      <td>2</td>\n",
       "      <td>0</td>\n",
       "      <td>...</td>\n",
       "      <td>484.2</td>\n",
       "      <td>0.293</td>\n",
       "      <td>0.170</td>\n",
       "      <td>1.721</td>\n",
       "      <td>0.024</td>\n",
       "      <td>0.007</td>\n",
       "      <td>0.004</td>\n",
       "      <td>117153.83</td>\n",
       "      <td>0.976</td>\n",
       "      <td>0.004</td>\n",
       "    </tr>\n",
       "    <tr>\n",
       "      <th>2</th>\n",
       "      <td>3</td>\n",
       "      <td>0</td>\n",
       "      <td>90000</td>\n",
       "      <td>2</td>\n",
       "      <td>2</td>\n",
       "      <td>2</td>\n",
       "      <td>34</td>\n",
       "      <td>0</td>\n",
       "      <td>0</td>\n",
       "      <td>0</td>\n",
       "      <td>...</td>\n",
       "      <td>3941.6</td>\n",
       "      <td>0.108</td>\n",
       "      <td>0.233</td>\n",
       "      <td>0.466</td>\n",
       "      <td>0.188</td>\n",
       "      <td>0.020</td>\n",
       "      <td>0.044</td>\n",
       "      <td>73057.83</td>\n",
       "      <td>0.812</td>\n",
       "      <td>0.054</td>\n",
       "    </tr>\n",
       "    <tr>\n",
       "      <th>3</th>\n",
       "      <td>4</td>\n",
       "      <td>0</td>\n",
       "      <td>50000</td>\n",
       "      <td>2</td>\n",
       "      <td>2</td>\n",
       "      <td>1</td>\n",
       "      <td>37</td>\n",
       "      <td>0</td>\n",
       "      <td>0</td>\n",
       "      <td>0</td>\n",
       "      <td>...</td>\n",
       "      <td>4966.2</td>\n",
       "      <td>0.036</td>\n",
       "      <td>0.129</td>\n",
       "      <td>0.282</td>\n",
       "      <td>0.771</td>\n",
       "      <td>0.028</td>\n",
       "      <td>0.099</td>\n",
       "      <td>11444.33</td>\n",
       "      <td>0.229</td>\n",
       "      <td>0.434</td>\n",
       "    </tr>\n",
       "    <tr>\n",
       "      <th>4</th>\n",
       "      <td>5</td>\n",
       "      <td>0</td>\n",
       "      <td>50000</td>\n",
       "      <td>1</td>\n",
       "      <td>2</td>\n",
       "      <td>1</td>\n",
       "      <td>57</td>\n",
       "      <td>-1</td>\n",
       "      <td>0</td>\n",
       "      <td>-1</td>\n",
       "      <td>...</td>\n",
       "      <td>9571.2</td>\n",
       "      <td>0.540</td>\n",
       "      <td>0.525</td>\n",
       "      <td>1.028</td>\n",
       "      <td>0.364</td>\n",
       "      <td>0.197</td>\n",
       "      <td>0.191</td>\n",
       "      <td>31776.83</td>\n",
       "      <td>0.636</td>\n",
       "      <td>0.301</td>\n",
       "    </tr>\n",
       "  </tbody>\n",
       "</table>\n",
       "<p>5 rows × 42 columns</p>\n",
       "</div>"
      ],
      "text/plain": [
       "   ID  default payment next month  LIMIT_BAL  SEX  EDUCATION  MARRIAGE  AGE  \\\n",
       "0   1                           1      20000    2          2         1   24   \n",
       "1   2                           1     120000    2          2         2   26   \n",
       "2   3                           0      90000    2          2         2   34   \n",
       "3   4                           0      50000    2          2         1   37   \n",
       "4   5                           0      50000    1          2         1   57   \n",
       "\n",
       "   PAY_0  PAY_2  PAY_3      ...        AveAddl  RatioPayBill  RatioAddlBill  \\\n",
       "0      2      2     -1      ...          920.4         0.089          0.717   \n",
       "1     -1      2      0      ...          484.2         0.293          0.170   \n",
       "2      0      0      0      ...         3941.6         0.108          0.233   \n",
       "3      0      0      0      ...         4966.2         0.036          0.129   \n",
       "4     -1      0     -1      ...         9571.2         0.540          0.525   \n",
       "\n",
       "   RatioPayAddl  RatioBillLimit  RatioPayLimit  RatioAddlLimit  AveOpenCred  \\\n",
       "0         0.125           0.064          0.006           0.046     18716.00   \n",
       "1         1.721           0.024          0.007           0.004    117153.83   \n",
       "2         0.466           0.188          0.020           0.044     73057.83   \n",
       "3         0.282           0.771          0.028           0.099     11444.33   \n",
       "4         1.028           0.364          0.197           0.191     31776.83   \n",
       "\n",
       "   RatioOpenLimit  RatioAddlOpen  \n",
       "0           0.936          0.049  \n",
       "1           0.976          0.004  \n",
       "2           0.812          0.054  \n",
       "3           0.229          0.434  \n",
       "4           0.636          0.301  \n",
       "\n",
       "[5 rows x 42 columns]"
      ]
     },
     "execution_count": 74,
     "metadata": {},
     "output_type": "execute_result"
    }
   ],
   "source": [
    "credit.head()"
   ]
  },
  {
   "cell_type": "code",
   "execution_count": 75,
   "metadata": {},
   "outputs": [
    {
     "data": {
      "text/html": [
       "<div>\n",
       "<style scoped>\n",
       "    .dataframe tbody tr th:only-of-type {\n",
       "        vertical-align: middle;\n",
       "    }\n",
       "\n",
       "    .dataframe tbody tr th {\n",
       "        vertical-align: top;\n",
       "    }\n",
       "\n",
       "    .dataframe thead th {\n",
       "        text-align: right;\n",
       "    }\n",
       "</style>\n",
       "<table border=\"1\" class=\"dataframe\">\n",
       "  <thead>\n",
       "    <tr style=\"text-align: right;\">\n",
       "      <th></th>\n",
       "      <th>ID</th>\n",
       "      <th>default payment next month</th>\n",
       "      <th>LIMIT_BAL</th>\n",
       "      <th>SEX</th>\n",
       "      <th>EDUCATION</th>\n",
       "      <th>MARRIAGE</th>\n",
       "      <th>AGE</th>\n",
       "      <th>PAY_0</th>\n",
       "      <th>PAY_2</th>\n",
       "      <th>PAY_3</th>\n",
       "      <th>...</th>\n",
       "      <th>AveAddl</th>\n",
       "      <th>RatioPayBill</th>\n",
       "      <th>RatioAddlBill</th>\n",
       "      <th>RatioPayAddl</th>\n",
       "      <th>RatioBillLimit</th>\n",
       "      <th>RatioPayLimit</th>\n",
       "      <th>RatioAddlLimit</th>\n",
       "      <th>AveOpenCred</th>\n",
       "      <th>RatioOpenLimit</th>\n",
       "      <th>RatioAddlOpen</th>\n",
       "    </tr>\n",
       "  </thead>\n",
       "  <tbody>\n",
       "    <tr>\n",
       "      <th>count</th>\n",
       "      <td>30000.000000</td>\n",
       "      <td>30000.000000</td>\n",
       "      <td>30000.000000</td>\n",
       "      <td>30000.000000</td>\n",
       "      <td>30000.000000</td>\n",
       "      <td>30000.000000</td>\n",
       "      <td>30000.000000</td>\n",
       "      <td>30000.000000</td>\n",
       "      <td>30000.000000</td>\n",
       "      <td>30000.000000</td>\n",
       "      <td>...</td>\n",
       "      <td>30000.000000</td>\n",
       "      <td>30000.000000</td>\n",
       "      <td>29130.000000</td>\n",
       "      <td>30000.000000</td>\n",
       "      <td>30000.000000</td>\n",
       "      <td>30000.000000</td>\n",
       "      <td>30000.000000</td>\n",
       "      <td>30000.000000</td>\n",
       "      <td>30000.000000</td>\n",
       "      <td>30000.000000</td>\n",
       "    </tr>\n",
       "    <tr>\n",
       "      <th>mean</th>\n",
       "      <td>15000.500000</td>\n",
       "      <td>0.221200</td>\n",
       "      <td>167484.322667</td>\n",
       "      <td>1.603733</td>\n",
       "      <td>1.853133</td>\n",
       "      <td>1.551867</td>\n",
       "      <td>35.485500</td>\n",
       "      <td>-0.016700</td>\n",
       "      <td>-0.133767</td>\n",
       "      <td>-0.166200</td>\n",
       "      <td>...</td>\n",
       "      <td>7757.492100</td>\n",
       "      <td>0.409942</td>\n",
       "      <td>0.411869</td>\n",
       "      <td>1.760346</td>\n",
       "      <td>0.373049</td>\n",
       "      <td>0.038914</td>\n",
       "      <td>0.060643</td>\n",
       "      <td>122507.377458</td>\n",
       "      <td>0.626955</td>\n",
       "      <td>0.089519</td>\n",
       "    </tr>\n",
       "    <tr>\n",
       "      <th>std</th>\n",
       "      <td>8660.398374</td>\n",
       "      <td>0.415062</td>\n",
       "      <td>129747.661567</td>\n",
       "      <td>0.489129</td>\n",
       "      <td>0.790349</td>\n",
       "      <td>0.521970</td>\n",
       "      <td>9.217904</td>\n",
       "      <td>1.123802</td>\n",
       "      <td>1.197186</td>\n",
       "      <td>1.196868</td>\n",
       "      <td>...</td>\n",
       "      <td>13026.668179</td>\n",
       "      <td>7.671401</td>\n",
       "      <td>5.398466</td>\n",
       "      <td>48.829454</td>\n",
       "      <td>0.351889</td>\n",
       "      <td>0.052627</td>\n",
       "      <td>0.077867</td>\n",
       "      <td>126008.196126</td>\n",
       "      <td>0.351890</td>\n",
       "      <td>17.914286</td>\n",
       "    </tr>\n",
       "    <tr>\n",
       "      <th>min</th>\n",
       "      <td>1.000000</td>\n",
       "      <td>0.000000</td>\n",
       "      <td>10000.000000</td>\n",
       "      <td>1.000000</td>\n",
       "      <td>0.000000</td>\n",
       "      <td>0.000000</td>\n",
       "      <td>21.000000</td>\n",
       "      <td>-2.000000</td>\n",
       "      <td>-2.000000</td>\n",
       "      <td>-2.000000</td>\n",
       "      <td>...</td>\n",
       "      <td>-28503.600000</td>\n",
       "      <td>-546.929000</td>\n",
       "      <td>-635.659000</td>\n",
       "      <td>-99.066000</td>\n",
       "      <td>-0.233000</td>\n",
       "      <td>0.000000</td>\n",
       "      <td>-0.214000</td>\n",
       "      <td>-235502.670000</td>\n",
       "      <td>-4.364000</td>\n",
       "      <td>-2830.650000</td>\n",
       "    </tr>\n",
       "    <tr>\n",
       "      <th>25%</th>\n",
       "      <td>7500.750000</td>\n",
       "      <td>0.000000</td>\n",
       "      <td>50000.000000</td>\n",
       "      <td>1.000000</td>\n",
       "      <td>1.000000</td>\n",
       "      <td>1.000000</td>\n",
       "      <td>28.000000</td>\n",
       "      <td>-1.000000</td>\n",
       "      <td>-1.000000</td>\n",
       "      <td>-1.000000</td>\n",
       "      <td>...</td>\n",
       "      <td>997.550000</td>\n",
       "      <td>0.043000</td>\n",
       "      <td>0.056000</td>\n",
       "      <td>0.412750</td>\n",
       "      <td>0.030000</td>\n",
       "      <td>0.011000</td>\n",
       "      <td>0.010000</td>\n",
       "      <td>19871.872500</td>\n",
       "      <td>0.312000</td>\n",
       "      <td>0.011000</td>\n",
       "    </tr>\n",
       "    <tr>\n",
       "      <th>50%</th>\n",
       "      <td>15000.500000</td>\n",
       "      <td>0.000000</td>\n",
       "      <td>140000.000000</td>\n",
       "      <td>2.000000</td>\n",
       "      <td>2.000000</td>\n",
       "      <td>2.000000</td>\n",
       "      <td>34.000000</td>\n",
       "      <td>0.000000</td>\n",
       "      <td>0.000000</td>\n",
       "      <td>0.000000</td>\n",
       "      <td>...</td>\n",
       "      <td>3628.000000</td>\n",
       "      <td>0.102000</td>\n",
       "      <td>0.222000</td>\n",
       "      <td>0.855000</td>\n",
       "      <td>0.285000</td>\n",
       "      <td>0.026000</td>\n",
       "      <td>0.031000</td>\n",
       "      <td>76077.750000</td>\n",
       "      <td>0.715000</td>\n",
       "      <td>0.052000</td>\n",
       "    </tr>\n",
       "    <tr>\n",
       "      <th>75%</th>\n",
       "      <td>22500.250000</td>\n",
       "      <td>0.000000</td>\n",
       "      <td>240000.000000</td>\n",
       "      <td>2.000000</td>\n",
       "      <td>2.000000</td>\n",
       "      <td>2.000000</td>\n",
       "      <td>41.000000</td>\n",
       "      <td>0.000000</td>\n",
       "      <td>0.000000</td>\n",
       "      <td>0.000000</td>\n",
       "      <td>...</td>\n",
       "      <td>9402.600000</td>\n",
       "      <td>0.695000</td>\n",
       "      <td>0.757000</td>\n",
       "      <td>1.381250</td>\n",
       "      <td>0.688000</td>\n",
       "      <td>0.044000</td>\n",
       "      <td>0.086000</td>\n",
       "      <td>197398.875000</td>\n",
       "      <td>0.970000</td>\n",
       "      <td>0.270000</td>\n",
       "    </tr>\n",
       "    <tr>\n",
       "      <th>max</th>\n",
       "      <td>30000.000000</td>\n",
       "      <td>1.000000</td>\n",
       "      <td>1000000.000000</td>\n",
       "      <td>2.000000</td>\n",
       "      <td>6.000000</td>\n",
       "      <td>3.000000</td>\n",
       "      <td>79.000000</td>\n",
       "      <td>8.000000</td>\n",
       "      <td>8.000000</td>\n",
       "      <td>8.000000</td>\n",
       "      <td>...</td>\n",
       "      <td>697727.400000</td>\n",
       "      <td>797.000000</td>\n",
       "      <td>460.654000</td>\n",
       "      <td>8352.500000</td>\n",
       "      <td>5.364000</td>\n",
       "      <td>2.428000</td>\n",
       "      <td>2.684000</td>\n",
       "      <td>795666.670000</td>\n",
       "      <td>1.233000</td>\n",
       "      <td>401.763000</td>\n",
       "    </tr>\n",
       "  </tbody>\n",
       "</table>\n",
       "<p>8 rows × 42 columns</p>\n",
       "</div>"
      ],
      "text/plain": [
       "                 ID  default payment next month       LIMIT_BAL           SEX  \\\n",
       "count  30000.000000                30000.000000    30000.000000  30000.000000   \n",
       "mean   15000.500000                    0.221200   167484.322667      1.603733   \n",
       "std     8660.398374                    0.415062   129747.661567      0.489129   \n",
       "min        1.000000                    0.000000    10000.000000      1.000000   \n",
       "25%     7500.750000                    0.000000    50000.000000      1.000000   \n",
       "50%    15000.500000                    0.000000   140000.000000      2.000000   \n",
       "75%    22500.250000                    0.000000   240000.000000      2.000000   \n",
       "max    30000.000000                    1.000000  1000000.000000      2.000000   \n",
       "\n",
       "          EDUCATION      MARRIAGE           AGE         PAY_0         PAY_2  \\\n",
       "count  30000.000000  30000.000000  30000.000000  30000.000000  30000.000000   \n",
       "mean       1.853133      1.551867     35.485500     -0.016700     -0.133767   \n",
       "std        0.790349      0.521970      9.217904      1.123802      1.197186   \n",
       "min        0.000000      0.000000     21.000000     -2.000000     -2.000000   \n",
       "25%        1.000000      1.000000     28.000000     -1.000000     -1.000000   \n",
       "50%        2.000000      2.000000     34.000000      0.000000      0.000000   \n",
       "75%        2.000000      2.000000     41.000000      0.000000      0.000000   \n",
       "max        6.000000      3.000000     79.000000      8.000000      8.000000   \n",
       "\n",
       "              PAY_3      ...              AveAddl  RatioPayBill  \\\n",
       "count  30000.000000      ...         30000.000000  30000.000000   \n",
       "mean      -0.166200      ...          7757.492100      0.409942   \n",
       "std        1.196868      ...         13026.668179      7.671401   \n",
       "min       -2.000000      ...        -28503.600000   -546.929000   \n",
       "25%       -1.000000      ...           997.550000      0.043000   \n",
       "50%        0.000000      ...          3628.000000      0.102000   \n",
       "75%        0.000000      ...          9402.600000      0.695000   \n",
       "max        8.000000      ...        697727.400000    797.000000   \n",
       "\n",
       "       RatioAddlBill  RatioPayAddl  RatioBillLimit  RatioPayLimit  \\\n",
       "count   29130.000000  30000.000000    30000.000000   30000.000000   \n",
       "mean        0.411869      1.760346        0.373049       0.038914   \n",
       "std         5.398466     48.829454        0.351889       0.052627   \n",
       "min      -635.659000    -99.066000       -0.233000       0.000000   \n",
       "25%         0.056000      0.412750        0.030000       0.011000   \n",
       "50%         0.222000      0.855000        0.285000       0.026000   \n",
       "75%         0.757000      1.381250        0.688000       0.044000   \n",
       "max       460.654000   8352.500000        5.364000       2.428000   \n",
       "\n",
       "       RatioAddlLimit    AveOpenCred  RatioOpenLimit  RatioAddlOpen  \n",
       "count    30000.000000   30000.000000    30000.000000   30000.000000  \n",
       "mean         0.060643  122507.377458        0.626955       0.089519  \n",
       "std          0.077867  126008.196126        0.351890      17.914286  \n",
       "min         -0.214000 -235502.670000       -4.364000   -2830.650000  \n",
       "25%          0.010000   19871.872500        0.312000       0.011000  \n",
       "50%          0.031000   76077.750000        0.715000       0.052000  \n",
       "75%          0.086000  197398.875000        0.970000       0.270000  \n",
       "max          2.684000  795666.670000        1.233000     401.763000  \n",
       "\n",
       "[8 rows x 42 columns]"
      ]
     },
     "execution_count": 75,
     "metadata": {},
     "output_type": "execute_result"
    }
   ],
   "source": [
    "credit.describe()"
   ]
  },
  {
   "cell_type": "code",
   "execution_count": 77,
   "metadata": {},
   "outputs": [
    {
     "data": {
      "text/plain": [
       "<matplotlib.axes._subplots.AxesSubplot at 0xb58ac50>"
      ]
     },
     "execution_count": 77,
     "metadata": {},
     "output_type": "execute_result"
    },
    {
     "data": {
      "image/png": "[encoded data removed]",
      "text/plain": [
       "<matplotlib.figure.Figure at 0xb591860>"
      ]
     },
     "metadata": {},
     "output_type": "display_data"
    }
   ],
   "source": [
    "credit.SEX.plot.hist()"
   ]
  },
  {
   "cell_type": "code",
   "execution_count": 26,
   "metadata": {},
   "outputs": [],
   "source": [
    "SexDict = {'Male':1, 'Female':2}"
   ]
  },
  {
   "cell_type": "code",
   "execution_count": 27,
   "metadata": {},
   "outputs": [
    {
     "data": {
      "text/plain": [
       "1"
      ]
     },
     "execution_count": 27,
     "metadata": {},
     "output_type": "execute_result"
    }
   ],
   "source": [
    "SexDict['Male']"
   ]
  },
  {
   "cell_type": "code",
   "execution_count": 33,
   "metadata": {},
   "outputs": [],
   "source": [
    "cleancredit = credit"
   ]
  },
  {
   "cell_type": "code",
   "execution_count": 37,
   "metadata": {},
   "outputs": [
    {
     "ename": "TypeError",
     "evalue": "Cannot compare types 'ndarray(dtype=int64)' and 'str'",
     "output_type": "error",
     "traceback": [
      "\u001b[1;31m---------------------------------------------------------------------------\u001b[0m",
      "\u001b[1;31mTypeError\u001b[0m                                 Traceback (most recent call last)",
      "\u001b[1;32m<ipython-input-37-508cf9d0f456>\u001b[0m in \u001b[0;36m<module>\u001b[1;34m()\u001b[0m\n\u001b[1;32m----> 1\u001b[1;33m \u001b[0mcleancredit\u001b[0m\u001b[1;33m.\u001b[0m\u001b[0mSEX\u001b[0m\u001b[1;33m.\u001b[0m\u001b[0mreplace\u001b[0m\u001b[1;33m(\u001b[0m\u001b[0mSexDict\u001b[0m\u001b[1;33m,\u001b[0m\u001b[0minplace\u001b[0m\u001b[1;33m=\u001b[0m\u001b[1;32mTrue\u001b[0m\u001b[1;33m)\u001b[0m\u001b[1;33m\u001b[0m\u001b[0m\n\u001b[0m",
      "\u001b[1;32m~\\Anaconda3\\lib\\site-packages\\pandas\\core\\generic.py\u001b[0m in \u001b[0;36mreplace\u001b[1;34m(self, to_replace, value, inplace, limit, regex, method, axis)\u001b[0m\n\u001b[0;32m   4529\u001b[0m \u001b[1;33m\u001b[0m\u001b[0m\n\u001b[0;32m   4530\u001b[0m             return self.replace(to_replace, value, inplace=inplace,\n\u001b[1;32m-> 4531\u001b[1;33m                                 limit=limit, regex=regex)\n\u001b[0m\u001b[0;32m   4532\u001b[0m         \u001b[1;32melse\u001b[0m\u001b[1;33m:\u001b[0m\u001b[1;33m\u001b[0m\u001b[0m\n\u001b[0;32m   4533\u001b[0m \u001b[1;33m\u001b[0m\u001b[0m\n",
      "\u001b[1;32m~\\Anaconda3\\lib\\site-packages\\pandas\\core\\generic.py\u001b[0m in \u001b[0;36mreplace\u001b[1;34m(self, to_replace, value, inplace, limit, regex, method, axis)\u001b[0m\n\u001b[0;32m   4578\u001b[0m                                                        \u001b[0mdest_list\u001b[0m\u001b[1;33m=\u001b[0m\u001b[0mvalue\u001b[0m\u001b[1;33m,\u001b[0m\u001b[1;33m\u001b[0m\u001b[0m\n\u001b[0;32m   4579\u001b[0m                                                        \u001b[0minplace\u001b[0m\u001b[1;33m=\u001b[0m\u001b[0minplace\u001b[0m\u001b[1;33m,\u001b[0m\u001b[1;33m\u001b[0m\u001b[0m\n\u001b[1;32m-> 4580\u001b[1;33m                                                        regex=regex)\n\u001b[0m\u001b[0;32m   4581\u001b[0m \u001b[1;33m\u001b[0m\u001b[0m\n\u001b[0;32m   4582\u001b[0m                 \u001b[1;32melse\u001b[0m\u001b[1;33m:\u001b[0m  \u001b[1;31m# [NA, ''] -> 0\u001b[0m\u001b[1;33m\u001b[0m\u001b[0m\n",
      "\u001b[1;32m~\\Anaconda3\\lib\\site-packages\\pandas\\core\\internals.py\u001b[0m in \u001b[0;36mreplace_list\u001b[1;34m(self, src_list, dest_list, inplace, regex, mgr)\u001b[0m\n\u001b[0;32m   3485\u001b[0m             \u001b[1;32mreturn\u001b[0m \u001b[0m_maybe_compare\u001b[0m\u001b[1;33m(\u001b[0m\u001b[0mvalues\u001b[0m\u001b[1;33m,\u001b[0m \u001b[0mgetattr\u001b[0m\u001b[1;33m(\u001b[0m\u001b[0ms\u001b[0m\u001b[1;33m,\u001b[0m \u001b[1;34m'asm8'\u001b[0m\u001b[1;33m,\u001b[0m \u001b[0ms\u001b[0m\u001b[1;33m)\u001b[0m\u001b[1;33m,\u001b[0m \u001b[0moperator\u001b[0m\u001b[1;33m.\u001b[0m\u001b[0meq\u001b[0m\u001b[1;33m)\u001b[0m\u001b[1;33m\u001b[0m\u001b[0m\n\u001b[0;32m   3486\u001b[0m \u001b[1;33m\u001b[0m\u001b[0m\n\u001b[1;32m-> 3487\u001b[1;33m         \u001b[0mmasks\u001b[0m \u001b[1;33m=\u001b[0m \u001b[1;33m[\u001b[0m\u001b[0mcomp\u001b[0m\u001b[1;33m(\u001b[0m\u001b[0ms\u001b[0m\u001b[1;33m)\u001b[0m \u001b[1;32mfor\u001b[0m \u001b[0mi\u001b[0m\u001b[1;33m,\u001b[0m \u001b[0ms\u001b[0m \u001b[1;32min\u001b[0m \u001b[0menumerate\u001b[0m\u001b[1;33m(\u001b[0m\u001b[0msrc_list\u001b[0m\u001b[1;33m)\u001b[0m\u001b[1;33m]\u001b[0m\u001b[1;33m\u001b[0m\u001b[0m\n\u001b[0m\u001b[0;32m   3488\u001b[0m \u001b[1;33m\u001b[0m\u001b[0m\n\u001b[0;32m   3489\u001b[0m         \u001b[0mresult_blocks\u001b[0m \u001b[1;33m=\u001b[0m \u001b[1;33m[\u001b[0m\u001b[1;33m]\u001b[0m\u001b[1;33m\u001b[0m\u001b[0m\n",
      "\u001b[1;32m~\\Anaconda3\\lib\\site-packages\\pandas\\core\\internals.py\u001b[0m in \u001b[0;36m<listcomp>\u001b[1;34m(.0)\u001b[0m\n\u001b[0;32m   3485\u001b[0m             \u001b[1;32mreturn\u001b[0m \u001b[0m_maybe_compare\u001b[0m\u001b[1;33m(\u001b[0m\u001b[0mvalues\u001b[0m\u001b[1;33m,\u001b[0m \u001b[0mgetattr\u001b[0m\u001b[1;33m(\u001b[0m\u001b[0ms\u001b[0m\u001b[1;33m,\u001b[0m \u001b[1;34m'asm8'\u001b[0m\u001b[1;33m,\u001b[0m \u001b[0ms\u001b[0m\u001b[1;33m)\u001b[0m\u001b[1;33m,\u001b[0m \u001b[0moperator\u001b[0m\u001b[1;33m.\u001b[0m\u001b[0meq\u001b[0m\u001b[1;33m)\u001b[0m\u001b[1;33m\u001b[0m\u001b[0m\n\u001b[0;32m   3486\u001b[0m \u001b[1;33m\u001b[0m\u001b[0m\n\u001b[1;32m-> 3487\u001b[1;33m         \u001b[0mmasks\u001b[0m \u001b[1;33m=\u001b[0m \u001b[1;33m[\u001b[0m\u001b[0mcomp\u001b[0m\u001b[1;33m(\u001b[0m\u001b[0ms\u001b[0m\u001b[1;33m)\u001b[0m \u001b[1;32mfor\u001b[0m \u001b[0mi\u001b[0m\u001b[1;33m,\u001b[0m \u001b[0ms\u001b[0m \u001b[1;32min\u001b[0m \u001b[0menumerate\u001b[0m\u001b[1;33m(\u001b[0m\u001b[0msrc_list\u001b[0m\u001b[1;33m)\u001b[0m\u001b[1;33m]\u001b[0m\u001b[1;33m\u001b[0m\u001b[0m\n\u001b[0m\u001b[0;32m   3488\u001b[0m \u001b[1;33m\u001b[0m\u001b[0m\n\u001b[0;32m   3489\u001b[0m         \u001b[0mresult_blocks\u001b[0m \u001b[1;33m=\u001b[0m \u001b[1;33m[\u001b[0m\u001b[1;33m]\u001b[0m\u001b[1;33m\u001b[0m\u001b[0m\n",
      "\u001b[1;32m~\\Anaconda3\\lib\\site-packages\\pandas\\core\\internals.py\u001b[0m in \u001b[0;36mcomp\u001b[1;34m(s)\u001b[0m\n\u001b[0;32m   3483\u001b[0m             \u001b[1;32mif\u001b[0m \u001b[0misna\u001b[0m\u001b[1;33m(\u001b[0m\u001b[0ms\u001b[0m\u001b[1;33m)\u001b[0m\u001b[1;33m:\u001b[0m\u001b[1;33m\u001b[0m\u001b[0m\n\u001b[0;32m   3484\u001b[0m                 \u001b[1;32mreturn\u001b[0m \u001b[0misna\u001b[0m\u001b[1;33m(\u001b[0m\u001b[0mvalues\u001b[0m\u001b[1;33m)\u001b[0m\u001b[1;33m\u001b[0m\u001b[0m\n\u001b[1;32m-> 3485\u001b[1;33m             \u001b[1;32mreturn\u001b[0m \u001b[0m_maybe_compare\u001b[0m\u001b[1;33m(\u001b[0m\u001b[0mvalues\u001b[0m\u001b[1;33m,\u001b[0m \u001b[0mgetattr\u001b[0m\u001b[1;33m(\u001b[0m\u001b[0ms\u001b[0m\u001b[1;33m,\u001b[0m \u001b[1;34m'asm8'\u001b[0m\u001b[1;33m,\u001b[0m \u001b[0ms\u001b[0m\u001b[1;33m)\u001b[0m\u001b[1;33m,\u001b[0m \u001b[0moperator\u001b[0m\u001b[1;33m.\u001b[0m\u001b[0meq\u001b[0m\u001b[1;33m)\u001b[0m\u001b[1;33m\u001b[0m\u001b[0m\n\u001b[0m\u001b[0;32m   3486\u001b[0m \u001b[1;33m\u001b[0m\u001b[0m\n\u001b[0;32m   3487\u001b[0m         \u001b[0mmasks\u001b[0m \u001b[1;33m=\u001b[0m \u001b[1;33m[\u001b[0m\u001b[0mcomp\u001b[0m\u001b[1;33m(\u001b[0m\u001b[0ms\u001b[0m\u001b[1;33m)\u001b[0m \u001b[1;32mfor\u001b[0m \u001b[0mi\u001b[0m\u001b[1;33m,\u001b[0m \u001b[0ms\u001b[0m \u001b[1;32min\u001b[0m \u001b[0menumerate\u001b[0m\u001b[1;33m(\u001b[0m\u001b[0msrc_list\u001b[0m\u001b[1;33m)\u001b[0m\u001b[1;33m]\u001b[0m\u001b[1;33m\u001b[0m\u001b[0m\n",
      "\u001b[1;32m~\\Anaconda3\\lib\\site-packages\\pandas\\core\\internals.py\u001b[0m in \u001b[0;36m_maybe_compare\u001b[1;34m(a, b, op)\u001b[0m\n\u001b[0;32m   4945\u001b[0m             \u001b[0mtype_names\u001b[0m\u001b[1;33m[\u001b[0m\u001b[1;36m1\u001b[0m\u001b[1;33m]\u001b[0m \u001b[1;33m=\u001b[0m \u001b[1;34m'ndarray(dtype=%s)'\u001b[0m \u001b[1;33m%\u001b[0m \u001b[0mb\u001b[0m\u001b[1;33m.\u001b[0m\u001b[0mdtype\u001b[0m\u001b[1;33m\u001b[0m\u001b[0m\n\u001b[0;32m   4946\u001b[0m \u001b[1;33m\u001b[0m\u001b[0m\n\u001b[1;32m-> 4947\u001b[1;33m         \u001b[1;32mraise\u001b[0m \u001b[0mTypeError\u001b[0m\u001b[1;33m(\u001b[0m\u001b[1;34m\"Cannot compare types %r and %r\"\u001b[0m \u001b[1;33m%\u001b[0m \u001b[0mtuple\u001b[0m\u001b[1;33m(\u001b[0m\u001b[0mtype_names\u001b[0m\u001b[1;33m)\u001b[0m\u001b[1;33m)\u001b[0m\u001b[1;33m\u001b[0m\u001b[0m\n\u001b[0m\u001b[0;32m   4948\u001b[0m     \u001b[1;32mreturn\u001b[0m \u001b[0mresult\u001b[0m\u001b[1;33m\u001b[0m\u001b[0m\n\u001b[0;32m   4949\u001b[0m \u001b[1;33m\u001b[0m\u001b[0m\n",
      "\u001b[1;31mTypeError\u001b[0m: Cannot compare types 'ndarray(dtype=int64)' and 'str'"
     ]
    }
   ],
   "source": [
    "cleancredit.SEX.replace(SexDict,inplace=True)"
   ]
  },
  {
   "cell_type": "code",
   "execution_count": 54,
   "metadata": {},
   "outputs": [
    {
     "data": {
      "text/plain": [
       "{'SEX': {'Female': 2, 'Male': 1}}"
      ]
     },
     "execution_count": 54,
     "metadata": {},
     "output_type": "execute_result"
    }
   ],
   "source": [
    "testdict = {\"SEX\": SexDict}\n",
    "testdict"
   ]
  },
  {
   "cell_type": "code",
   "execution_count": 51,
   "metadata": {},
   "outputs": [
    {
     "data": {
      "text/plain": [
       "{'SEX': {'Female': 2, 'Male': 1}}"
      ]
     },
     "execution_count": 51,
     "metadata": {},
     "output_type": "execute_result"
    }
   ],
   "source": [
    "testdict2 = {'SEX': {'Male':1, 'Female':2}}\n",
    "testdict2"
   ]
  },
  {
   "cell_type": "code",
   "execution_count": 55,
   "metadata": {},
   "outputs": [
    {
     "ename": "TypeError",
     "evalue": "Cannot compare types 'ndarray(dtype=int64)' and 'str'",
     "output_type": "error",
     "traceback": [
      "\u001b[1;31m---------------------------------------------------------------------------\u001b[0m",
      "\u001b[1;31mTypeError\u001b[0m                                 Traceback (most recent call last)",
      "\u001b[1;32m<ipython-input-55-94a374f426a9>\u001b[0m in \u001b[0;36m<module>\u001b[1;34m()\u001b[0m\n\u001b[1;32m----> 1\u001b[1;33m \u001b[0mcleancredit\u001b[0m\u001b[1;33m.\u001b[0m\u001b[0mreplace\u001b[0m\u001b[1;33m(\u001b[0m\u001b[0mtestdict\u001b[0m\u001b[1;33m,\u001b[0m\u001b[0minplace\u001b[0m\u001b[1;33m=\u001b[0m\u001b[1;32mTrue\u001b[0m\u001b[1;33m)\u001b[0m\u001b[1;33m\u001b[0m\u001b[0m\n\u001b[0m",
      "\u001b[1;32m~\\Anaconda3\\lib\\site-packages\\pandas\\core\\generic.py\u001b[0m in \u001b[0;36mreplace\u001b[1;34m(self, to_replace, value, inplace, limit, regex, method, axis)\u001b[0m\n\u001b[0;32m   4529\u001b[0m \u001b[1;33m\u001b[0m\u001b[0m\n\u001b[0;32m   4530\u001b[0m             return self.replace(to_replace, value, inplace=inplace,\n\u001b[1;32m-> 4531\u001b[1;33m                                 limit=limit, regex=regex)\n\u001b[0m\u001b[0;32m   4532\u001b[0m         \u001b[1;32melse\u001b[0m\u001b[1;33m:\u001b[0m\u001b[1;33m\u001b[0m\u001b[0m\n\u001b[0;32m   4533\u001b[0m \u001b[1;33m\u001b[0m\u001b[0m\n",
      "\u001b[1;32m~\\Anaconda3\\lib\\site-packages\\pandas\\core\\generic.py\u001b[0m in \u001b[0;36mreplace\u001b[1;34m(self, to_replace, value, inplace, limit, regex, method, axis)\u001b[0m\n\u001b[0;32m   4548\u001b[0m                                                     \u001b[0mvalue\u001b[0m\u001b[1;33m=\u001b[0m\u001b[0mvalue\u001b[0m\u001b[1;33m[\u001b[0m\u001b[0mc\u001b[0m\u001b[1;33m]\u001b[0m\u001b[1;33m,\u001b[0m\u001b[1;33m\u001b[0m\u001b[0m\n\u001b[0;32m   4549\u001b[0m                                                     \u001b[0minplace\u001b[0m\u001b[1;33m=\u001b[0m\u001b[1;32mFalse\u001b[0m\u001b[1;33m,\u001b[0m\u001b[1;33m\u001b[0m\u001b[0m\n\u001b[1;32m-> 4550\u001b[1;33m                                                     regex=regex)\n\u001b[0m\u001b[0;32m   4551\u001b[0m                     \u001b[1;32mreturn\u001b[0m \u001b[1;32mNone\u001b[0m \u001b[1;32mif\u001b[0m \u001b[0minplace\u001b[0m \u001b[1;32melse\u001b[0m \u001b[0mres\u001b[0m\u001b[1;33m\u001b[0m\u001b[0m\n\u001b[0;32m   4552\u001b[0m \u001b[1;33m\u001b[0m\u001b[0m\n",
      "\u001b[1;32m~\\Anaconda3\\lib\\site-packages\\pandas\\core\\generic.py\u001b[0m in \u001b[0;36mreplace\u001b[1;34m(self, to_replace, value, inplace, limit, regex, method, axis)\u001b[0m\n\u001b[0;32m   4578\u001b[0m                                                        \u001b[0mdest_list\u001b[0m\u001b[1;33m=\u001b[0m\u001b[0mvalue\u001b[0m\u001b[1;33m,\u001b[0m\u001b[1;33m\u001b[0m\u001b[0m\n\u001b[0;32m   4579\u001b[0m                                                        \u001b[0minplace\u001b[0m\u001b[1;33m=\u001b[0m\u001b[0minplace\u001b[0m\u001b[1;33m,\u001b[0m\u001b[1;33m\u001b[0m\u001b[0m\n\u001b[1;32m-> 4580\u001b[1;33m                                                        regex=regex)\n\u001b[0m\u001b[0;32m   4581\u001b[0m \u001b[1;33m\u001b[0m\u001b[0m\n\u001b[0;32m   4582\u001b[0m                 \u001b[1;32melse\u001b[0m\u001b[1;33m:\u001b[0m  \u001b[1;31m# [NA, ''] -> 0\u001b[0m\u001b[1;33m\u001b[0m\u001b[0m\n",
      "\u001b[1;32m~\\Anaconda3\\lib\\site-packages\\pandas\\core\\internals.py\u001b[0m in \u001b[0;36mreplace_list\u001b[1;34m(self, src_list, dest_list, inplace, regex, mgr)\u001b[0m\n\u001b[0;32m   3485\u001b[0m             \u001b[1;32mreturn\u001b[0m \u001b[0m_maybe_compare\u001b[0m\u001b[1;33m(\u001b[0m\u001b[0mvalues\u001b[0m\u001b[1;33m,\u001b[0m \u001b[0mgetattr\u001b[0m\u001b[1;33m(\u001b[0m\u001b[0ms\u001b[0m\u001b[1;33m,\u001b[0m \u001b[1;34m'asm8'\u001b[0m\u001b[1;33m,\u001b[0m \u001b[0ms\u001b[0m\u001b[1;33m)\u001b[0m\u001b[1;33m,\u001b[0m \u001b[0moperator\u001b[0m\u001b[1;33m.\u001b[0m\u001b[0meq\u001b[0m\u001b[1;33m)\u001b[0m\u001b[1;33m\u001b[0m\u001b[0m\n\u001b[0;32m   3486\u001b[0m \u001b[1;33m\u001b[0m\u001b[0m\n\u001b[1;32m-> 3487\u001b[1;33m         \u001b[0mmasks\u001b[0m \u001b[1;33m=\u001b[0m \u001b[1;33m[\u001b[0m\u001b[0mcomp\u001b[0m\u001b[1;33m(\u001b[0m\u001b[0ms\u001b[0m\u001b[1;33m)\u001b[0m \u001b[1;32mfor\u001b[0m \u001b[0mi\u001b[0m\u001b[1;33m,\u001b[0m \u001b[0ms\u001b[0m \u001b[1;32min\u001b[0m \u001b[0menumerate\u001b[0m\u001b[1;33m(\u001b[0m\u001b[0msrc_list\u001b[0m\u001b[1;33m)\u001b[0m\u001b[1;33m]\u001b[0m\u001b[1;33m\u001b[0m\u001b[0m\n\u001b[0m\u001b[0;32m   3488\u001b[0m \u001b[1;33m\u001b[0m\u001b[0m\n\u001b[0;32m   3489\u001b[0m         \u001b[0mresult_blocks\u001b[0m \u001b[1;33m=\u001b[0m \u001b[1;33m[\u001b[0m\u001b[1;33m]\u001b[0m\u001b[1;33m\u001b[0m\u001b[0m\n",
      "\u001b[1;32m~\\Anaconda3\\lib\\site-packages\\pandas\\core\\internals.py\u001b[0m in \u001b[0;36m<listcomp>\u001b[1;34m(.0)\u001b[0m\n\u001b[0;32m   3485\u001b[0m             \u001b[1;32mreturn\u001b[0m \u001b[0m_maybe_compare\u001b[0m\u001b[1;33m(\u001b[0m\u001b[0mvalues\u001b[0m\u001b[1;33m,\u001b[0m \u001b[0mgetattr\u001b[0m\u001b[1;33m(\u001b[0m\u001b[0ms\u001b[0m\u001b[1;33m,\u001b[0m \u001b[1;34m'asm8'\u001b[0m\u001b[1;33m,\u001b[0m \u001b[0ms\u001b[0m\u001b[1;33m)\u001b[0m\u001b[1;33m,\u001b[0m \u001b[0moperator\u001b[0m\u001b[1;33m.\u001b[0m\u001b[0meq\u001b[0m\u001b[1;33m)\u001b[0m\u001b[1;33m\u001b[0m\u001b[0m\n\u001b[0;32m   3486\u001b[0m \u001b[1;33m\u001b[0m\u001b[0m\n\u001b[1;32m-> 3487\u001b[1;33m         \u001b[0mmasks\u001b[0m \u001b[1;33m=\u001b[0m \u001b[1;33m[\u001b[0m\u001b[0mcomp\u001b[0m\u001b[1;33m(\u001b[0m\u001b[0ms\u001b[0m\u001b[1;33m)\u001b[0m \u001b[1;32mfor\u001b[0m \u001b[0mi\u001b[0m\u001b[1;33m,\u001b[0m \u001b[0ms\u001b[0m \u001b[1;32min\u001b[0m \u001b[0menumerate\u001b[0m\u001b[1;33m(\u001b[0m\u001b[0msrc_list\u001b[0m\u001b[1;33m)\u001b[0m\u001b[1;33m]\u001b[0m\u001b[1;33m\u001b[0m\u001b[0m\n\u001b[0m\u001b[0;32m   3488\u001b[0m \u001b[1;33m\u001b[0m\u001b[0m\n\u001b[0;32m   3489\u001b[0m         \u001b[0mresult_blocks\u001b[0m \u001b[1;33m=\u001b[0m \u001b[1;33m[\u001b[0m\u001b[1;33m]\u001b[0m\u001b[1;33m\u001b[0m\u001b[0m\n",
      "\u001b[1;32m~\\Anaconda3\\lib\\site-packages\\pandas\\core\\internals.py\u001b[0m in \u001b[0;36mcomp\u001b[1;34m(s)\u001b[0m\n\u001b[0;32m   3483\u001b[0m             \u001b[1;32mif\u001b[0m \u001b[0misna\u001b[0m\u001b[1;33m(\u001b[0m\u001b[0ms\u001b[0m\u001b[1;33m)\u001b[0m\u001b[1;33m:\u001b[0m\u001b[1;33m\u001b[0m\u001b[0m\n\u001b[0;32m   3484\u001b[0m                 \u001b[1;32mreturn\u001b[0m \u001b[0misna\u001b[0m\u001b[1;33m(\u001b[0m\u001b[0mvalues\u001b[0m\u001b[1;33m)\u001b[0m\u001b[1;33m\u001b[0m\u001b[0m\n\u001b[1;32m-> 3485\u001b[1;33m             \u001b[1;32mreturn\u001b[0m \u001b[0m_maybe_compare\u001b[0m\u001b[1;33m(\u001b[0m\u001b[0mvalues\u001b[0m\u001b[1;33m,\u001b[0m \u001b[0mgetattr\u001b[0m\u001b[1;33m(\u001b[0m\u001b[0ms\u001b[0m\u001b[1;33m,\u001b[0m \u001b[1;34m'asm8'\u001b[0m\u001b[1;33m,\u001b[0m \u001b[0ms\u001b[0m\u001b[1;33m)\u001b[0m\u001b[1;33m,\u001b[0m \u001b[0moperator\u001b[0m\u001b[1;33m.\u001b[0m\u001b[0meq\u001b[0m\u001b[1;33m)\u001b[0m\u001b[1;33m\u001b[0m\u001b[0m\n\u001b[0m\u001b[0;32m   3486\u001b[0m \u001b[1;33m\u001b[0m\u001b[0m\n\u001b[0;32m   3487\u001b[0m         \u001b[0mmasks\u001b[0m \u001b[1;33m=\u001b[0m \u001b[1;33m[\u001b[0m\u001b[0mcomp\u001b[0m\u001b[1;33m(\u001b[0m\u001b[0ms\u001b[0m\u001b[1;33m)\u001b[0m \u001b[1;32mfor\u001b[0m \u001b[0mi\u001b[0m\u001b[1;33m,\u001b[0m \u001b[0ms\u001b[0m \u001b[1;32min\u001b[0m \u001b[0menumerate\u001b[0m\u001b[1;33m(\u001b[0m\u001b[0msrc_list\u001b[0m\u001b[1;33m)\u001b[0m\u001b[1;33m]\u001b[0m\u001b[1;33m\u001b[0m\u001b[0m\n",
      "\u001b[1;32m~\\Anaconda3\\lib\\site-packages\\pandas\\core\\internals.py\u001b[0m in \u001b[0;36m_maybe_compare\u001b[1;34m(a, b, op)\u001b[0m\n\u001b[0;32m   4945\u001b[0m             \u001b[0mtype_names\u001b[0m\u001b[1;33m[\u001b[0m\u001b[1;36m1\u001b[0m\u001b[1;33m]\u001b[0m \u001b[1;33m=\u001b[0m \u001b[1;34m'ndarray(dtype=%s)'\u001b[0m \u001b[1;33m%\u001b[0m \u001b[0mb\u001b[0m\u001b[1;33m.\u001b[0m\u001b[0mdtype\u001b[0m\u001b[1;33m\u001b[0m\u001b[0m\n\u001b[0;32m   4946\u001b[0m \u001b[1;33m\u001b[0m\u001b[0m\n\u001b[1;32m-> 4947\u001b[1;33m         \u001b[1;32mraise\u001b[0m \u001b[0mTypeError\u001b[0m\u001b[1;33m(\u001b[0m\u001b[1;34m\"Cannot compare types %r and %r\"\u001b[0m \u001b[1;33m%\u001b[0m \u001b[0mtuple\u001b[0m\u001b[1;33m(\u001b[0m\u001b[0mtype_names\u001b[0m\u001b[1;33m)\u001b[0m\u001b[1;33m)\u001b[0m\u001b[1;33m\u001b[0m\u001b[0m\n\u001b[0m\u001b[0;32m   4948\u001b[0m     \u001b[1;32mreturn\u001b[0m \u001b[0mresult\u001b[0m\u001b[1;33m\u001b[0m\u001b[0m\n\u001b[0;32m   4949\u001b[0m \u001b[1;33m\u001b[0m\u001b[0m\n",
      "\u001b[1;31mTypeError\u001b[0m: Cannot compare types 'ndarray(dtype=int64)' and 'str'"
     ]
    }
   ],
   "source": [
    "cleancredit.replace(testdict,inplace=True)"
   ]
  },
  {
   "cell_type": "code",
   "execution_count": 43,
   "metadata": {},
   "outputs": [
    {
     "data": {
      "text/plain": [
       "count    30000.000000\n",
       "mean         1.603733\n",
       "std          0.489129\n",
       "min          1.000000\n",
       "25%          1.000000\n",
       "50%          2.000000\n",
       "75%          2.000000\n",
       "max          2.000000\n",
       "Name: SEX, dtype: float64"
      ]
     },
     "execution_count": 43,
     "metadata": {},
     "output_type": "execute_result"
    }
   ],
   "source": [
    "cleancredit.SEX.describe()"
   ]
  },
  {
   "cell_type": "code",
   "execution_count": 44,
   "metadata": {},
   "outputs": [
    {
     "data": {
      "text/plain": [
       "0    2\n",
       "1    2\n",
       "2    2\n",
       "3    2\n",
       "4    1\n",
       "Name: SEX, dtype: int64"
      ]
     },
     "execution_count": 44,
     "metadata": {},
     "output_type": "execute_result"
    }
   ],
   "source": [
    "cleancredit.SEX.head()"
   ]
  },
  {
   "cell_type": "code",
   "execution_count": 57,
   "metadata": {},
   "outputs": [],
   "source": [
    "#Moving on, why have dictionaries if they can't be used?  \n",
    "#Tired of trying to contortion into the syntax, if it even exists\n",
    "#Will just have to survive with the un-user-friendly numbers"
   ]
  },
  {
   "cell_type": "code",
   "execution_count": 59,
   "metadata": {},
   "outputs": [
    {
     "data": {
      "text/plain": [
       "{'SEX': {1: 'Male', 2: 'Female'}}"
      ]
     },
     "execution_count": 59,
     "metadata": {},
     "output_type": "execute_result"
    }
   ],
   "source": [
    "#Well, let's try one more POS\n",
    "#Maybe it is order specific\n",
    "testdict3 = {'SEX': {1:'Male', 2:'Female'}}\n",
    "testdict3"
   ]
  },
  {
   "cell_type": "code",
   "execution_count": 60,
   "metadata": {},
   "outputs": [],
   "source": [
    "cleancredit.replace(testdict3,inplace=True)"
   ]
  },
  {
   "cell_type": "code",
   "execution_count": 61,
   "metadata": {},
   "outputs": [
    {
     "data": {
      "text/plain": [
       "0    Female\n",
       "1    Female\n",
       "2    Female\n",
       "3    Female\n",
       "4      Male\n",
       "Name: SEX, dtype: object"
      ]
     },
     "execution_count": 61,
     "metadata": {},
     "output_type": "execute_result"
    }
   ],
   "source": [
    "cleancredit.SEX.head()"
   ]
  },
  {
   "cell_type": "code",
   "execution_count": 78,
   "metadata": {},
   "outputs": [
    {
     "ename": "TypeError",
     "evalue": "Empty 'DataFrame': no numeric data to plot",
     "output_type": "error",
     "traceback": [
      "\u001b[1;31m---------------------------------------------------------------------------\u001b[0m",
      "\u001b[1;31mTypeError\u001b[0m                                 Traceback (most recent call last)",
      "\u001b[1;32m<ipython-input-78-ae9e89ce4010>\u001b[0m in \u001b[0;36m<module>\u001b[1;34m()\u001b[0m\n\u001b[0;32m      6\u001b[0m \u001b[1;31m#so in conclusion, the below no longer works.  So, going to backtrack on the whole usability thing\u001b[0m\u001b[1;33m\u001b[0m\u001b[1;33m\u001b[0m\u001b[0m\n\u001b[0;32m      7\u001b[0m \u001b[1;31m#and go back to assinine plots of number fields with non-useful axes\u001b[0m\u001b[1;33m\u001b[0m\u001b[1;33m\u001b[0m\u001b[0m\n\u001b[1;32m----> 8\u001b[1;33m \u001b[0mcleancredit\u001b[0m\u001b[1;33m.\u001b[0m\u001b[0mSEX\u001b[0m\u001b[1;33m.\u001b[0m\u001b[0mplot\u001b[0m\u001b[1;33m.\u001b[0m\u001b[0mhist\u001b[0m\u001b[1;33m(\u001b[0m\u001b[1;33m)\u001b[0m\u001b[1;33m\u001b[0m\u001b[0m\n\u001b[0m",
      "\u001b[1;32m~\\Anaconda3\\lib\\site-packages\\pandas\\plotting\\_core.py\u001b[0m in \u001b[0;36mhist\u001b[1;34m(self, bins, **kwds)\u001b[0m\n\u001b[0;32m   2589\u001b[0m         \u001b[0maxes\u001b[0m \u001b[1;33m:\u001b[0m \u001b[0mmatplotlib\u001b[0m\u001b[1;33m.\u001b[0m\u001b[0mAxesSubplot\u001b[0m \u001b[1;32mor\u001b[0m \u001b[0mnp\u001b[0m\u001b[1;33m.\u001b[0m\u001b[0marray\u001b[0m \u001b[0mof\u001b[0m \u001b[0mthem\u001b[0m\u001b[1;33m\u001b[0m\u001b[0m\n\u001b[0;32m   2590\u001b[0m         \"\"\"\n\u001b[1;32m-> 2591\u001b[1;33m         \u001b[1;32mreturn\u001b[0m \u001b[0mself\u001b[0m\u001b[1;33m(\u001b[0m\u001b[0mkind\u001b[0m\u001b[1;33m=\u001b[0m\u001b[1;34m'hist'\u001b[0m\u001b[1;33m,\u001b[0m \u001b[0mbins\u001b[0m\u001b[1;33m=\u001b[0m\u001b[0mbins\u001b[0m\u001b[1;33m,\u001b[0m \u001b[1;33m**\u001b[0m\u001b[0mkwds\u001b[0m\u001b[1;33m)\u001b[0m\u001b[1;33m\u001b[0m\u001b[0m\n\u001b[0m\u001b[0;32m   2592\u001b[0m \u001b[1;33m\u001b[0m\u001b[0m\n\u001b[0;32m   2593\u001b[0m     \u001b[1;32mdef\u001b[0m \u001b[0mkde\u001b[0m\u001b[1;33m(\u001b[0m\u001b[0mself\u001b[0m\u001b[1;33m,\u001b[0m \u001b[1;33m**\u001b[0m\u001b[0mkwds\u001b[0m\u001b[1;33m)\u001b[0m\u001b[1;33m:\u001b[0m\u001b[1;33m\u001b[0m\u001b[0m\n",
      "\u001b[1;32m~\\Anaconda3\\lib\\site-packages\\pandas\\plotting\\_core.py\u001b[0m in \u001b[0;36m__call__\u001b[1;34m(self, kind, ax, figsize, use_index, title, grid, legend, style, logx, logy, loglog, xticks, yticks, xlim, ylim, rot, fontsize, colormap, table, yerr, xerr, label, secondary_y, **kwds)\u001b[0m\n\u001b[0;32m   2501\u001b[0m                            \u001b[0mcolormap\u001b[0m\u001b[1;33m=\u001b[0m\u001b[0mcolormap\u001b[0m\u001b[1;33m,\u001b[0m \u001b[0mtable\u001b[0m\u001b[1;33m=\u001b[0m\u001b[0mtable\u001b[0m\u001b[1;33m,\u001b[0m \u001b[0myerr\u001b[0m\u001b[1;33m=\u001b[0m\u001b[0myerr\u001b[0m\u001b[1;33m,\u001b[0m\u001b[1;33m\u001b[0m\u001b[0m\n\u001b[0;32m   2502\u001b[0m                            \u001b[0mxerr\u001b[0m\u001b[1;33m=\u001b[0m\u001b[0mxerr\u001b[0m\u001b[1;33m,\u001b[0m \u001b[0mlabel\u001b[0m\u001b[1;33m=\u001b[0m\u001b[0mlabel\u001b[0m\u001b[1;33m,\u001b[0m \u001b[0msecondary_y\u001b[0m\u001b[1;33m=\u001b[0m\u001b[0msecondary_y\u001b[0m\u001b[1;33m,\u001b[0m\u001b[1;33m\u001b[0m\u001b[0m\n\u001b[1;32m-> 2503\u001b[1;33m                            **kwds)\n\u001b[0m\u001b[0;32m   2504\u001b[0m     \u001b[0m__call__\u001b[0m\u001b[1;33m.\u001b[0m\u001b[0m__doc__\u001b[0m \u001b[1;33m=\u001b[0m \u001b[0mplot_series\u001b[0m\u001b[1;33m.\u001b[0m\u001b[0m__doc__\u001b[0m\u001b[1;33m\u001b[0m\u001b[0m\n\u001b[0;32m   2505\u001b[0m \u001b[1;33m\u001b[0m\u001b[0m\n",
      "\u001b[1;32m~\\Anaconda3\\lib\\site-packages\\pandas\\plotting\\_core.py\u001b[0m in \u001b[0;36mplot_series\u001b[1;34m(data, kind, ax, figsize, use_index, title, grid, legend, style, logx, logy, loglog, xticks, yticks, xlim, ylim, rot, fontsize, colormap, table, yerr, xerr, label, secondary_y, **kwds)\u001b[0m\n\u001b[0;32m   1925\u001b[0m                  \u001b[0myerr\u001b[0m\u001b[1;33m=\u001b[0m\u001b[0myerr\u001b[0m\u001b[1;33m,\u001b[0m \u001b[0mxerr\u001b[0m\u001b[1;33m=\u001b[0m\u001b[0mxerr\u001b[0m\u001b[1;33m,\u001b[0m\u001b[1;33m\u001b[0m\u001b[0m\n\u001b[0;32m   1926\u001b[0m                  \u001b[0mlabel\u001b[0m\u001b[1;33m=\u001b[0m\u001b[0mlabel\u001b[0m\u001b[1;33m,\u001b[0m \u001b[0msecondary_y\u001b[0m\u001b[1;33m=\u001b[0m\u001b[0msecondary_y\u001b[0m\u001b[1;33m,\u001b[0m\u001b[1;33m\u001b[0m\u001b[0m\n\u001b[1;32m-> 1927\u001b[1;33m                  **kwds)\n\u001b[0m\u001b[0;32m   1928\u001b[0m \u001b[1;33m\u001b[0m\u001b[0m\n\u001b[0;32m   1929\u001b[0m \u001b[1;33m\u001b[0m\u001b[0m\n",
      "\u001b[1;32m~\\Anaconda3\\lib\\site-packages\\pandas\\plotting\\_core.py\u001b[0m in \u001b[0;36m_plot\u001b[1;34m(data, x, y, subplots, ax, kind, **kwds)\u001b[0m\n\u001b[0;32m   1727\u001b[0m         \u001b[0mplot_obj\u001b[0m \u001b[1;33m=\u001b[0m \u001b[0mklass\u001b[0m\u001b[1;33m(\u001b[0m\u001b[0mdata\u001b[0m\u001b[1;33m,\u001b[0m \u001b[0msubplots\u001b[0m\u001b[1;33m=\u001b[0m\u001b[0msubplots\u001b[0m\u001b[1;33m,\u001b[0m \u001b[0max\u001b[0m\u001b[1;33m=\u001b[0m\u001b[0max\u001b[0m\u001b[1;33m,\u001b[0m \u001b[0mkind\u001b[0m\u001b[1;33m=\u001b[0m\u001b[0mkind\u001b[0m\u001b[1;33m,\u001b[0m \u001b[1;33m**\u001b[0m\u001b[0mkwds\u001b[0m\u001b[1;33m)\u001b[0m\u001b[1;33m\u001b[0m\u001b[0m\n\u001b[0;32m   1728\u001b[0m \u001b[1;33m\u001b[0m\u001b[0m\n\u001b[1;32m-> 1729\u001b[1;33m     \u001b[0mplot_obj\u001b[0m\u001b[1;33m.\u001b[0m\u001b[0mgenerate\u001b[0m\u001b[1;33m(\u001b[0m\u001b[1;33m)\u001b[0m\u001b[1;33m\u001b[0m\u001b[0m\n\u001b[0m\u001b[0;32m   1730\u001b[0m     \u001b[0mplot_obj\u001b[0m\u001b[1;33m.\u001b[0m\u001b[0mdraw\u001b[0m\u001b[1;33m(\u001b[0m\u001b[1;33m)\u001b[0m\u001b[1;33m\u001b[0m\u001b[0m\n\u001b[0;32m   1731\u001b[0m     \u001b[1;32mreturn\u001b[0m \u001b[0mplot_obj\u001b[0m\u001b[1;33m.\u001b[0m\u001b[0mresult\u001b[0m\u001b[1;33m\u001b[0m\u001b[0m\n",
      "\u001b[1;32m~\\Anaconda3\\lib\\site-packages\\pandas\\plotting\\_core.py\u001b[0m in \u001b[0;36mgenerate\u001b[1;34m(self)\u001b[0m\n\u001b[0;32m    248\u001b[0m     \u001b[1;32mdef\u001b[0m \u001b[0mgenerate\u001b[0m\u001b[1;33m(\u001b[0m\u001b[0mself\u001b[0m\u001b[1;33m)\u001b[0m\u001b[1;33m:\u001b[0m\u001b[1;33m\u001b[0m\u001b[0m\n\u001b[0;32m    249\u001b[0m         \u001b[0mself\u001b[0m\u001b[1;33m.\u001b[0m\u001b[0m_args_adjust\u001b[0m\u001b[1;33m(\u001b[0m\u001b[1;33m)\u001b[0m\u001b[1;33m\u001b[0m\u001b[0m\n\u001b[1;32m--> 250\u001b[1;33m         \u001b[0mself\u001b[0m\u001b[1;33m.\u001b[0m\u001b[0m_compute_plot_data\u001b[0m\u001b[1;33m(\u001b[0m\u001b[1;33m)\u001b[0m\u001b[1;33m\u001b[0m\u001b[0m\n\u001b[0m\u001b[0;32m    251\u001b[0m         \u001b[0mself\u001b[0m\u001b[1;33m.\u001b[0m\u001b[0m_setup_subplots\u001b[0m\u001b[1;33m(\u001b[0m\u001b[1;33m)\u001b[0m\u001b[1;33m\u001b[0m\u001b[0m\n\u001b[0;32m    252\u001b[0m         \u001b[0mself\u001b[0m\u001b[1;33m.\u001b[0m\u001b[0m_make_plot\u001b[0m\u001b[1;33m(\u001b[0m\u001b[1;33m)\u001b[0m\u001b[1;33m\u001b[0m\u001b[0m\n",
      "\u001b[1;32m~\\Anaconda3\\lib\\site-packages\\pandas\\plotting\\_core.py\u001b[0m in \u001b[0;36m_compute_plot_data\u001b[1;34m(self)\u001b[0m\n\u001b[0;32m    363\u001b[0m         \u001b[1;32mif\u001b[0m \u001b[0mis_empty\u001b[0m\u001b[1;33m:\u001b[0m\u001b[1;33m\u001b[0m\u001b[0m\n\u001b[0;32m    364\u001b[0m             raise TypeError('Empty {0!r}: no numeric data to '\n\u001b[1;32m--> 365\u001b[1;33m                             'plot'.format(numeric_data.__class__.__name__))\n\u001b[0m\u001b[0;32m    366\u001b[0m \u001b[1;33m\u001b[0m\u001b[0m\n\u001b[0;32m    367\u001b[0m         \u001b[0mself\u001b[0m\u001b[1;33m.\u001b[0m\u001b[0mdata\u001b[0m \u001b[1;33m=\u001b[0m \u001b[0mnumeric_data\u001b[0m\u001b[1;33m\u001b[0m\u001b[0m\n",
      "\u001b[1;31mTypeError\u001b[0m: Empty 'DataFrame': no numeric data to plot"
     ]
    }
   ],
   "source": [
    "#Well golly gee, you just have to get frustrated at it and then it works\n",
    "\n",
    "#Of course, damnit, python and other languages seem to think things must be numbers to count them\n",
    "#3 ones and 4 twos, sure! Here's a histogram\n",
    "#3 oranges and 4 apples, how the hell do we do a histogram of that beevis?\n",
    "#so in conclusion, the below no longer works.  So, going to backtrack on the whole usability thing \n",
    "#and go back to assinine plots of only number fields with non-useful axes\n",
    "cleancredit.SEX.plot.hist()"
   ]
  },
  {
   "cell_type": "code",
   "execution_count": 79,
   "metadata": {},
   "outputs": [
    {
     "data": {
      "text/plain": [
       "0    2\n",
       "1    2\n",
       "2    2\n",
       "3    2\n",
       "4    1\n",
       "Name: SEX, dtype: int64"
      ]
     },
     "execution_count": 79,
     "metadata": {},
     "output_type": "execute_result"
    }
   ],
   "source": [
    "credit.SEX.head()"
   ]
  },
  {
   "cell_type": "code",
   "execution_count": 80,
   "metadata": {},
   "outputs": [
    {
     "data": {
      "text/plain": [
       "<matplotlib.axes._subplots.AxesSubplot at 0xbce5ba8>"
      ]
     },
     "execution_count": 80,
     "metadata": {},
     "output_type": "execute_result"
    },
    {
     "data": {
      "image/png": "[encoded data removed]",
      "text/plain": [
       "<matplotlib.figure.Figure at 0xbd03f98>"
      ]
     },
     "metadata": {},
     "output_type": "display_data"
    }
   ],
   "source": [
    "credit.SEX.plot.hist()\n",
    "#Great default axes here"
   ]
  },
  {
   "cell_type": "code",
   "execution_count": 81,
   "metadata": {},
   "outputs": [
    {
     "data": {
      "text/plain": [
       "<matplotlib.axes._subplots.AxesSubplot at 0xbd2a908>"
      ]
     },
     "execution_count": 81,
     "metadata": {},
     "output_type": "execute_result"
    },
    {
     "data": {
      "image/png": "[encoded data removed]",
      "text/plain": [
       "<matplotlib.figure.Figure at 0xbd4a358>"
      ]
     },
     "metadata": {},
     "output_type": "display_data"
    }
   ],
   "source": [
    "credit.EDUCATION.plot.hist()\n",
    "#Hrm, those oneish and twoish values are showing up just like in the SEX field.  I wonder if that is significant"
   ]
  },
  {
   "cell_type": "code",
   "execution_count": 82,
   "metadata": {},
   "outputs": [
    {
     "data": {
      "text/plain": [
       "<matplotlib.axes._subplots.AxesSubplot at 0xbde5d68>"
      ]
     },
     "execution_count": 82,
     "metadata": {},
     "output_type": "execute_result"
    },
    {
     "data": {
      "image/png": "[encoded data removed]",
      "text/plain": [
       "<matplotlib.figure.Figure at 0xbdac198>"
      ]
     },
     "metadata": {},
     "output_type": "display_data"
    }
   ],
   "source": [
    "credit.MARRIAGE.plot.hist()\n",
    "#There they are again!  Maybe some sort of 1 and 2 data virus?"
   ]
  },
  {
   "cell_type": "code",
   "execution_count": 83,
   "metadata": {},
   "outputs": [
    {
     "data": {
      "text/plain": [
       "<matplotlib.axes._subplots.AxesSubplot at 0xbe4ba58>"
      ]
     },
     "execution_count": 83,
     "metadata": {},
     "output_type": "execute_result"
    },
    {
     "data": {
      "image/png": "[encoded data removed]",
      "text/plain": [
       "<matplotlib.figure.Figure at 0xbe34390>"
      ]
     },
     "metadata": {},
     "output_type": "display_data"
    }
   ],
   "source": [
    "credit.AGE.plot.hist()\n"
   ]
  },
  {
   "cell_type": "code",
   "execution_count": 84,
   "metadata": {},
   "outputs": [
    {
     "data": {
      "text/plain": [
       "<matplotlib.axes._subplots.AxesSubplot at 0xae6ec50>"
      ]
     },
     "execution_count": 84,
     "metadata": {},
     "output_type": "execute_result"
    },
    {
     "data": {
      "image/png": "[encoded data removed]",
      "text/plain": [
       "<matplotlib.figure.Figure at 0xae6a4e0>"
      ]
     },
     "metadata": {},
     "output_type": "display_data"
    }
   ],
   "source": [
    "#I am just going to look at one each of the next few\n",
    "credit.BILL_AMT1.plot.hist()"
   ]
  },
  {
   "cell_type": "code",
   "execution_count": 85,
   "metadata": {},
   "outputs": [
    {
     "data": {
      "text/plain": [
       "<matplotlib.axes._subplots.AxesSubplot at 0xb5309e8>"
      ]
     },
     "execution_count": 85,
     "metadata": {},
     "output_type": "execute_result"
    },
    {
     "data": {
      "image/png": "[encoded data removed]",
      "text/plain": [
       "<matplotlib.figure.Figure at 0xad33240>"
      ]
     },
     "metadata": {},
     "output_type": "display_data"
    }
   ],
   "source": [
    "credit.PAY_AMT1.plot.hist()"
   ]
  },
  {
   "cell_type": "code",
   "execution_count": 86,
   "metadata": {},
   "outputs": [
    {
     "data": {
      "text/plain": [
       "<matplotlib.axes._subplots.AxesSubplot at 0xadb6358>"
      ]
     },
     "execution_count": 86,
     "metadata": {},
     "output_type": "execute_result"
    },
    {
     "data": {
      "image/png": "[encoded data removed]",
      "text/plain": [
       "<matplotlib.figure.Figure at 0xbf4de10>"
      ]
     },
     "metadata": {},
     "output_type": "display_data"
    }
   ],
   "source": [
    "credit.Addl1.plot.hist()"
   ]
  },
  {
   "cell_type": "code",
   "execution_count": 87,
   "metadata": {},
   "outputs": [
    {
     "data": {
      "text/plain": [
       "<matplotlib.axes._subplots.AxesSubplot at 0x94f89e8>"
      ]
     },
     "execution_count": 87,
     "metadata": {},
     "output_type": "execute_result"
    },
    {
     "data": {
      "image/png": "[encoded data removed]",
      "text/plain": [
       "<matplotlib.figure.Figure at 0xbfd14e0>"
      ]
     },
     "metadata": {},
     "output_type": "display_data"
    }
   ],
   "source": [
    "credit.AveBill.plot.hist()"
   ]
  },
  {
   "cell_type": "code",
   "execution_count": 88,
   "metadata": {},
   "outputs": [
    {
     "data": {
      "text/plain": [
       "<matplotlib.axes._subplots.AxesSubplot at 0xc004208>"
      ]
     },
     "execution_count": 88,
     "metadata": {},
     "output_type": "execute_result"
    },
    {
     "data": {
      "image/png": "[encoded data removed]",
      "text/plain": [
       "<matplotlib.figure.Figure at 0xc011630>"
      ]
     },
     "metadata": {},
     "output_type": "display_data"
    }
   ],
   "source": [
    "credit.AvePay.plot.hist()"
   ]
  },
  {
   "cell_type": "code",
   "execution_count": 89,
   "metadata": {},
   "outputs": [
    {
     "data": {
      "text/plain": [
       "<matplotlib.axes._subplots.AxesSubplot at 0xe06d978>"
      ]
     },
     "execution_count": 89,
     "metadata": {},
     "output_type": "execute_result"
    },
    {
     "data": {
      "image/png": "[encoded data removed]",
      "text/plain": [
       "<matplotlib.figure.Figure at 0xc0ab240>"
      ]
     },
     "metadata": {},
     "output_type": "display_data"
    }
   ],
   "source": [
    "credit.AveAddl.plot.hist()"
   ]
  },
  {
   "cell_type": "code",
   "execution_count": 90,
   "metadata": {},
   "outputs": [
    {
     "data": {
      "text/plain": [
       "<matplotlib.axes._subplots.AxesSubplot at 0xc0043c8>"
      ]
     },
     "execution_count": 90,
     "metadata": {},
     "output_type": "execute_result"
    },
    {
     "data": {
      "image/png": "[encoded data removed]",
      "text/plain": [
       "<matplotlib.figure.Figure at 0xe0cd4a8>"
      ]
     },
     "metadata": {},
     "output_type": "display_data"
    }
   ],
   "source": [
    "credit.AveOpenCred.plot.hist()"
   ]
  },
  {
   "cell_type": "code",
   "execution_count": 91,
   "metadata": {},
   "outputs": [
    {
     "data": {
      "text/plain": [
       "<matplotlib.axes._subplots.AxesSubplot at 0xc0e7b70>"
      ]
     },
     "execution_count": 91,
     "metadata": {},
     "output_type": "execute_result"
    },
    {
     "data": {
      "image/png": "[encoded data removed]",
      "text/plain": [
       "<matplotlib.figure.Figure at 0xe159278>"
      ]
     },
     "metadata": {},
     "output_type": "display_data"
    }
   ],
   "source": [
    "credit.RatioPayBill.plot.hist()\n",
    "#Ratios are not going to be helpful as a histogram, unless we look at a limited range"
   ]
  },
  {
   "cell_type": "code",
   "execution_count": 92,
   "metadata": {},
   "outputs": [],
   "source": [
    "#Really, I did all of my data exploration and munging in Excel.  I have no idea how I would do it in Python,\n",
    "#and it certainly would not have been time efficient in comparison\n",
    "#Trying to get an intimate feel of the data needs hands onto specific observations, including the interplay between variables\n",
    "#Doing it in Python seems like trying to fix a watch with a hammer\n",
    "\n",
    "#Anyway moving on to plan of attack step 2"
   ]
  },
  {
   "cell_type": "code",
   "execution_count": 93,
   "metadata": {},
   "outputs": [],
   "source": [
    "import pandas as pd\n",
    "import matplotlib.pyplot as plt"
   ]
  },
  {
   "cell_type": "code",
   "execution_count": 94,
   "metadata": {},
   "outputs": [
    {
     "name": "stdout",
     "output_type": "stream",
     "text": [
      "Index(['ID', 'default payment next month', 'LIMIT_BAL', 'SEX', 'EDUCATION',\n",
      "       'MARRIAGE', 'AGE', 'PAY_0', 'PAY_2', 'PAY_3', 'PAY_4', 'PAY_5', 'PAY_6',\n",
      "       'BILL_AMT1', 'BILL_AMT2', 'BILL_AMT3', 'BILL_AMT4', 'BILL_AMT5',\n",
      "       'BILL_AMT6', 'PAY_AMT1', 'PAY_AMT2', 'PAY_AMT3', 'PAY_AMT4', 'PAY_AMT5',\n",
      "       'PAY_AMT6', 'Addl1', 'Addl2', 'Addl3', 'Addl4', 'Addl5', 'AveBill',\n",
      "       'AvePay', 'AveAddl', 'RatioPayBill', 'RatioAddlBill', 'RatioPayAddl',\n",
      "       'RatioBillLimit', 'RatioPayLimit', 'RatioAddlLimit', 'AveOpenCred',\n",
      "       'RatioOpenLimit', 'RatioAddlOpen'],\n",
      "      dtype='object')\n"
     ]
    }
   ],
   "source": [
    "header = credit.dtypes.index\n",
    "print(header)"
   ]
  },
  {
   "cell_type": "code",
   "execution_count": 95,
   "metadata": {},
   "outputs": [
    {
     "data": {
      "image/png": "[encoded data removed]",
      "text/plain": [
       "<matplotlib.figure.Figure at 0xe0c1f28>"
      ]
     },
     "metadata": {},
     "output_type": "display_data"
    }
   ],
   "source": [
    "plt.hist(credit['LIMIT_BAL'])\n",
    "plt.show()"
   ]
  },
  {
   "cell_type": "code",
   "execution_count": 96,
   "metadata": {},
   "outputs": [
    {
     "data": {
      "image/png": "[encoded data removed]",
      "text/plain": [
       "<matplotlib.figure.Figure at 0xf215048>"
      ]
     },
     "metadata": {},
     "output_type": "display_data"
    }
   ],
   "source": [
    "plt.hist(credit['LIMIT_BAL'], bins=4)\n",
    "plt.show()"
   ]
  },
  {
   "cell_type": "code",
   "execution_count": 97,
   "metadata": {},
   "outputs": [
    {
     "data": {
      "image/png": "[encoded data removed]",
      "text/plain": [
       "<matplotlib.figure.Figure at 0xf272550>"
      ]
     },
     "metadata": {},
     "output_type": "display_data"
    }
   ],
   "source": [
    "plt.plot(credit['LIMIT_BAL'])\n",
    "plt.show()"
   ]
  },
  {
   "cell_type": "code",
   "execution_count": 98,
   "metadata": {},
   "outputs": [],
   "source": [
    "#See, the above is misleading because the X axis looks like a number,\n",
    "#But is really ID, so is meaningless"
   ]
  },
  {
   "cell_type": "code",
   "execution_count": 99,
   "metadata": {},
   "outputs": [
    {
     "data": {
      "image/png": "[encoded data removed]",
      "text/plain": [
       "<matplotlib.figure.Figure at 0xf2c0ac8>"
      ]
     },
     "metadata": {},
     "output_type": "display_data"
    }
   ],
   "source": [
    "x = credit['PAY_0']\n",
    "y = credit['PAY_2']\n",
    "plt.scatter(x, y) \n",
    "plt.title('Pay Comparsion')\n",
    "plt.xlabel('Pay 0')\n",
    "plt.ylabel('Pay 2')\n",
    "plt.show()"
   ]
  },
  {
   "cell_type": "code",
   "execution_count": 100,
   "metadata": {},
   "outputs": [
    {
     "name": "stdout",
     "output_type": "stream",
     "text": [
      "Index(['ID', 'default payment next month', 'LIMIT_BAL', 'SEX', 'EDUCATION',\n",
      "       'MARRIAGE', 'AGE', 'PAY_0', 'PAY_2', 'PAY_3', 'PAY_4', 'PAY_5', 'PAY_6',\n",
      "       'BILL_AMT1', 'BILL_AMT2', 'BILL_AMT3', 'BILL_AMT4', 'BILL_AMT5',\n",
      "       'BILL_AMT6', 'PAY_AMT1', 'PAY_AMT2', 'PAY_AMT3', 'PAY_AMT4', 'PAY_AMT5',\n",
      "       'PAY_AMT6', 'Addl1', 'Addl2', 'Addl3', 'Addl4', 'Addl5', 'AveBill',\n",
      "       'AvePay', 'AveAddl', 'RatioPayBill', 'RatioAddlBill', 'RatioPayAddl',\n",
      "       'RatioBillLimit', 'RatioPayLimit', 'RatioAddlLimit', 'AveOpenCred',\n",
      "       'RatioOpenLimit', 'RatioAddlOpen'],\n",
      "      dtype='object')\n"
     ]
    }
   ],
   "source": [
    "header = credit.dtypes.index\n",
    "print(header)"
   ]
  },
  {
   "cell_type": "code",
   "execution_count": 101,
   "metadata": {},
   "outputs": [
    {
     "data": {
      "image/png": "[encoded data removed]",
      "text/plain": [
       "<matplotlib.figure.Figure at 0xf2c0b00>"
      ]
     },
     "metadata": {},
     "output_type": "display_data"
    }
   ],
   "source": [
    "A = credit['BILL_AMT1']\n",
    "plt.boxplot(A,0,'gD')\n",
    "plt.show()"
   ]
  },
  {
   "cell_type": "code",
   "execution_count": 103,
   "metadata": {},
   "outputs": [
    {
     "name": "stdout",
     "output_type": "stream",
     "text": [
      "                                  ID  default payment next month  LIMIT_BAL  \\\n",
      "ID                          1.000000                   -0.013952   0.026179   \n",
      "default payment next month -0.013952                    1.000000  -0.153520   \n",
      "LIMIT_BAL                   0.026179                   -0.153520   1.000000   \n",
      "SEX                         0.018497                   -0.039961   0.024755   \n",
      "EDUCATION                   0.039177                    0.028006  -0.219161   \n",
      "MARRIAGE                   -0.029079                   -0.024339  -0.108139   \n",
      "AGE                         0.018678                    0.013890   0.144713   \n",
      "PAY_0                      -0.030575                    0.324794  -0.271214   \n",
      "PAY_2                      -0.011215                    0.263551  -0.296382   \n",
      "PAY_3                      -0.018494                    0.235253  -0.286123   \n",
      "PAY_4                      -0.002735                    0.216614  -0.267460   \n",
      "PAY_5                      -0.022199                    0.204149  -0.249411   \n",
      "PAY_6                      -0.020270                    0.186866  -0.235195   \n",
      "BILL_AMT1                   0.019389                   -0.019644   0.285430   \n",
      "BILL_AMT2                   0.017982                   -0.014193   0.278314   \n",
      "BILL_AMT3                   0.024354                   -0.014076   0.283236   \n",
      "BILL_AMT4                   0.040351                   -0.010156   0.293988   \n",
      "BILL_AMT5                   0.016705                   -0.006760   0.295562   \n",
      "BILL_AMT6                   0.016730                   -0.005372   0.290389   \n",
      "PAY_AMT1                    0.009742                   -0.072929   0.195236   \n",
      "PAY_AMT2                    0.008406                   -0.058579   0.178408   \n",
      "PAY_AMT3                    0.039151                   -0.056250   0.210167   \n",
      "PAY_AMT4                    0.007793                   -0.056827   0.203242   \n",
      "PAY_AMT5                    0.000652                   -0.055124   0.217202   \n",
      "PAY_AMT6                    0.003000                   -0.053183   0.219595   \n",
      "Addl1                       0.014262                   -0.075837   0.204917   \n",
      "Addl2                      -0.009106                   -0.058491   0.180793   \n",
      "Addl3                      -0.008526                   -0.051450   0.173554   \n",
      "Addl4                       0.082066                   -0.054603   0.198990   \n",
      "Addl5                       0.001618                   -0.051563   0.220666   \n",
      "AveBill                     0.023723                   -0.012691   0.302044   \n",
      "AvePay                      0.020217                   -0.102354   0.352655   \n",
      "AveAddl                     0.024685                   -0.098369   0.326582   \n",
      "RatioPayBill                0.001083                   -0.010353   0.032008   \n",
      "RatioAddlBill               0.000642                   -0.018200   0.022684   \n",
      "RatioPayAddl               -0.003492                   -0.002556   0.001022   \n",
      "RatioBillLimit              0.010303                    0.115485  -0.383372   \n",
      "RatioPayLimit               0.021311                   -0.038817  -0.181880   \n",
      "RatioAddlLimit              0.009206                   -0.046803  -0.237458   \n",
      "AveOpenCred                 0.015046                   -0.151704   0.878039   \n",
      "RatioOpenLimit             -0.010301                   -0.115480   0.383362   \n",
      "RatioAddlOpen               0.000823                   -0.008128  -0.000163   \n",
      "\n",
      "                                 SEX  EDUCATION  MARRIAGE       AGE     PAY_0  \\\n",
      "ID                          0.018497   0.039177 -0.029079  0.018678 -0.030575   \n",
      "default payment next month -0.039961   0.028006 -0.024339  0.013890  0.324794   \n",
      "LIMIT_BAL                   0.024755  -0.219161 -0.108139  0.144713 -0.271214   \n",
      "SEX                         1.000000   0.014232 -0.031389 -0.090874 -0.057643   \n",
      "EDUCATION                   0.014232   1.000000 -0.143464  0.175061  0.105364   \n",
      "MARRIAGE                   -0.031389  -0.143464  1.000000 -0.414170  0.019917   \n",
      "AGE                        -0.090874   0.175061 -0.414170  1.000000 -0.039447   \n",
      "PAY_0                      -0.057643   0.105364  0.019917 -0.039447  1.000000   \n",
      "PAY_2                      -0.070771   0.121566  0.024199 -0.050148  0.672164   \n",
      "PAY_3                      -0.066096   0.114025  0.032688 -0.053048  0.574245   \n",
      "PAY_4                      -0.060173   0.108793  0.033122 -0.049722  0.538841   \n",
      "PAY_5                      -0.055064   0.097520  0.035629 -0.053826  0.509426   \n",
      "PAY_6                      -0.044008   0.082316  0.034345 -0.048773  0.474553   \n",
      "BILL_AMT1                  -0.033642   0.023581 -0.023472  0.056239  0.187068   \n",
      "BILL_AMT2                  -0.031183   0.018749 -0.021602  0.054283  0.189859   \n",
      "BILL_AMT3                  -0.024563   0.013002 -0.024909  0.053710  0.179785   \n",
      "BILL_AMT4                  -0.021880  -0.000451 -0.023344  0.051353  0.179125   \n",
      "BILL_AMT5                  -0.017005  -0.007567 -0.025393  0.049345  0.180635   \n",
      "BILL_AMT6                  -0.016733  -0.009099 -0.021207  0.047613  0.176980   \n",
      "PAY_AMT1                   -0.000242  -0.037456 -0.005979  0.026147 -0.079269   \n",
      "PAY_AMT2                   -0.001391  -0.030038 -0.008093  0.021785 -0.070101   \n",
      "PAY_AMT3                   -0.008597  -0.039943 -0.003541  0.029247 -0.070561   \n",
      "PAY_AMT4                   -0.002229  -0.038218 -0.012659  0.021379 -0.064005   \n",
      "PAY_AMT5                   -0.001667  -0.040358 -0.001205  0.022850 -0.058190   \n",
      "PAY_AMT6                   -0.002766  -0.037200 -0.006641  0.019478 -0.058673   \n",
      "Addl1                      -0.012076  -0.010073 -0.013372  0.032780 -0.048474   \n",
      "Addl2                      -0.023166  -0.010965  0.000148  0.027084 -0.024102   \n",
      "Addl3                      -0.017523   0.008912 -0.011285  0.036673 -0.011675   \n",
      "Addl4                      -0.019700  -0.008087 -0.007533  0.030785 -0.022232   \n",
      "Addl5                      -0.003470  -0.029545 -0.016536  0.028377 -0.024690   \n",
      "AveBill                    -0.025920   0.007750 -0.024507  0.054981  0.191803   \n",
      "AvePay                     -0.004882  -0.063991 -0.011222  0.040776 -0.116810   \n",
      "AveAddl                    -0.026538  -0.014629 -0.015814  0.052809 -0.043406   \n",
      "RatioPayBill                0.004990  -0.015337 -0.000516  0.001642 -0.031882   \n",
      "RatioAddlBill              -0.003997  -0.016465  0.006000  0.002427 -0.045204   \n",
      "RatioPayAddl                0.004373  -0.001624  0.007604 -0.003312  0.004101   \n",
      "RatioBillLimit             -0.068851   0.170143  0.052172 -0.041712  0.413455   \n",
      "RatioPayLimit              -0.039088   0.052865  0.063671 -0.049449 -0.012251   \n",
      "RatioAddlLimit             -0.070683   0.125209  0.053927 -0.019751  0.059261   \n",
      "AveOpenCred                 0.038502  -0.229555 -0.099045  0.121405 -0.375555   \n",
      "RatioOpenLimit              0.068846  -0.170139 -0.052171  0.041710 -0.413448   \n",
      "RatioAddlOpen               0.007013   0.000005 -0.000341  0.006732 -0.007225   \n",
      "\n",
      "                               PAY_2     PAY_3      ...         AveAddl  \\\n",
      "ID                         -0.011215 -0.018494      ...        0.024685   \n",
      "default payment next month  0.263551  0.235253      ...       -0.098369   \n",
      "LIMIT_BAL                  -0.296382 -0.286123      ...        0.326582   \n",
      "SEX                        -0.070771 -0.066096      ...       -0.026538   \n",
      "EDUCATION                   0.121566  0.114025      ...       -0.014629   \n",
      "MARRIAGE                    0.024199  0.032688      ...       -0.015814   \n",
      "AGE                        -0.050148 -0.053048      ...        0.052809   \n",
      "PAY_0                       0.672164  0.574245      ...       -0.043406   \n",
      "PAY_2                       1.000000  0.766552      ...       -0.011533   \n",
      "PAY_3                       0.766552  1.000000      ...       -0.024798   \n",
      "PAY_4                       0.662067  0.777359      ...       -0.029498   \n",
      "PAY_5                       0.622780  0.686775      ...       -0.028428   \n",
      "PAY_6                       0.575501  0.632684      ...       -0.033196   \n",
      "BILL_AMT1                   0.234887  0.208473      ...        0.587128   \n",
      "BILL_AMT2                   0.235257  0.237295      ...        0.535550   \n",
      "BILL_AMT3                   0.224146  0.227494      ...        0.514573   \n",
      "BILL_AMT4                   0.222237  0.227202      ...        0.431534   \n",
      "BILL_AMT5                   0.221348  0.225145      ...        0.364172   \n",
      "BILL_AMT6                   0.219403  0.222327      ...        0.300582   \n",
      "PAY_AMT1                   -0.080701  0.001295      ...        0.482068   \n",
      "PAY_AMT2                   -0.058990 -0.066793      ...        0.532745   \n",
      "PAY_AMT3                   -0.055901 -0.053311      ...        0.474041   \n",
      "PAY_AMT4                   -0.046858 -0.046067      ...        0.399242   \n",
      "PAY_AMT5                   -0.037093 -0.035863      ...        0.323336   \n",
      "PAY_AMT6                   -0.036500 -0.035861      ...        0.318435   \n",
      "Addl1                      -0.036193 -0.069949      ...        0.604251   \n",
      "Addl2                      -0.006739 -0.018025      ...        0.621648   \n",
      "Addl3                       0.010305  0.008674      ...        0.637470   \n",
      "Addl4                       0.005094  0.009965      ...        0.572509   \n",
      "Addl5                      -0.009709 -0.005537      ...        0.507179   \n",
      "AveBill                     0.238182  0.235960      ...        0.486978   \n",
      "AvePay                     -0.092553 -0.071732      ...        0.747383   \n",
      "AveAddl                    -0.011533 -0.024798      ...        1.000000   \n",
      "RatioPayBill               -0.039393 -0.037743      ...       -0.012502   \n",
      "RatioAddlBill              -0.042667 -0.044199      ...       -0.003422   \n",
      "RatioPayAddl               -0.014628 -0.012830      ...       -0.013188   \n",
      "RatioBillLimit              0.496807  0.486338      ...        0.143589   \n",
      "RatioPayLimit               0.016124  0.038626      ...        0.395891   \n",
      "RatioAddlLimit              0.102764  0.068543      ...        0.562104   \n",
      "AveOpenCred                -0.424754 -0.413075      ...        0.091793   \n",
      "RatioOpenLimit             -0.496800 -0.486329      ...       -0.143594   \n",
      "RatioAddlOpen               0.001585  0.001579      ...        0.009812   \n",
      "\n",
      "                            RatioPayBill  RatioAddlBill  RatioPayAddl  \\\n",
      "ID                              0.001083       0.000642     -0.003492   \n",
      "default payment next month     -0.010353      -0.018200     -0.002556   \n",
      "LIMIT_BAL                       0.032008       0.022684      0.001022   \n",
      "SEX                             0.004990      -0.003997      0.004373   \n",
      "EDUCATION                      -0.015337      -0.016465     -0.001624   \n",
      "MARRIAGE                       -0.000516       0.006000      0.007604   \n",
      "AGE                             0.001642       0.002427     -0.003312   \n",
      "PAY_0                          -0.031882      -0.045204      0.004101   \n",
      "PAY_2                          -0.039393      -0.042667     -0.014628   \n",
      "PAY_3                          -0.037743      -0.044199     -0.012830   \n",
      "PAY_4                          -0.035474      -0.045757     -0.009931   \n",
      "PAY_5                          -0.036047      -0.048010     -0.007339   \n",
      "PAY_6                          -0.035666      -0.051150      0.001022   \n",
      "BILL_AMT1                      -0.029267      -0.028547     -0.013615   \n",
      "BILL_AMT2                      -0.027462      -0.029860     -0.012335   \n",
      "BILL_AMT3                      -0.023775      -0.026703     -0.010673   \n",
      "BILL_AMT4                      -0.025399      -0.032113     -0.008754   \n",
      "BILL_AMT5                      -0.024629      -0.033205     -0.005974   \n",
      "BILL_AMT6                      -0.023645      -0.034700     -0.001489   \n",
      "PAY_AMT1                       -0.018641      -0.029074     -0.003346   \n",
      "PAY_AMT2                        0.003325       0.006808     -0.002095   \n",
      "PAY_AMT3                        0.000985       0.002120     -0.001588   \n",
      "PAY_AMT4                        0.002437       0.001253      0.001951   \n",
      "PAY_AMT5                        0.007154       0.005186      0.010209   \n",
      "PAY_AMT6                        0.057728      -0.004800      0.014992   \n",
      "Addl1                          -0.023492      -0.021141     -0.008301   \n",
      "Addl2                          -0.009687      -0.004839     -0.007865   \n",
      "Addl3                           0.000099       0.009817     -0.008030   \n",
      "Addl4                          -0.004745      -0.001296     -0.008166   \n",
      "Addl5                           0.001111       0.007029     -0.006551   \n",
      "AveBill                        -0.027131      -0.032246     -0.009579   \n",
      "AvePay                          0.015765      -0.004512      0.005284   \n",
      "AveAddl                        -0.012502      -0.003422     -0.013188   \n",
      "RatioPayBill                    1.000000       0.690491      0.008721   \n",
      "RatioAddlBill                   0.690491       1.000000     -0.001419   \n",
      "RatioPayAddl                    0.008721      -0.001419      1.000000   \n",
      "RatioBillLimit                 -0.042253      -0.050553     -0.013123   \n",
      "RatioPayLimit                  -0.021958      -0.052683      0.004380   \n",
      "RatioAddlLimit                 -0.039283      -0.038293     -0.017860   \n",
      "AveOpenCred                     0.046578       0.039919      0.005861   \n",
      "RatioOpenLimit                  0.042254       0.050554      0.013123   \n",
      "RatioAddlOpen                  -0.000159      -0.000030     -0.000132   \n",
      "\n",
      "                            RatioBillLimit  RatioPayLimit  RatioAddlLimit  \\\n",
      "ID                                0.010303       0.021311        0.009206   \n",
      "default payment next month        0.115485      -0.038817       -0.046803   \n",
      "LIMIT_BAL                        -0.383372      -0.181880       -0.237458   \n",
      "SEX                              -0.068851      -0.039088       -0.070683   \n",
      "EDUCATION                         0.170143       0.052865        0.125209   \n",
      "MARRIAGE                          0.052172       0.063671        0.053927   \n",
      "AGE                              -0.041712      -0.049449       -0.019751   \n",
      "PAY_0                             0.413455      -0.012251        0.059261   \n",
      "PAY_2                             0.496807       0.016124        0.102764   \n",
      "PAY_3                             0.486338       0.038626        0.068543   \n",
      "PAY_4                             0.486568       0.057595        0.041066   \n",
      "PAY_5                             0.486961       0.069840        0.017733   \n",
      "PAY_6                             0.479556       0.081172       -0.008380   \n",
      "BILL_AMT1                         0.506799       0.042735        0.271018   \n",
      "BILL_AMT2                         0.531480       0.070675        0.231980   \n",
      "BILL_AMT3                         0.534977       0.122627        0.205742   \n",
      "BILL_AMT4                         0.530296       0.107943        0.122491   \n",
      "BILL_AMT5                         0.517932       0.115545        0.064805   \n",
      "BILL_AMT6                         0.504669       0.121715        0.016617   \n",
      "PAY_AMT1                          0.044642       0.358734        0.219283   \n",
      "PAY_AMT2                          0.027072       0.394051        0.257307   \n",
      "PAY_AMT3                          0.015510       0.320206        0.192375   \n",
      "PAY_AMT4                          0.016639       0.313160        0.178411   \n",
      "PAY_AMT5                          0.012569       0.282921        0.124486   \n",
      "PAY_AMT6                         -0.007608       0.296243        0.105654   \n",
      "Addl1                             0.010631       0.187182        0.326440   \n",
      "Addl2                             0.057102       0.236939        0.345403   \n",
      "Addl3                             0.127651       0.282012        0.382994   \n",
      "Addl4                             0.139191       0.232626        0.324695   \n",
      "Addl5                             0.089822       0.226453        0.268085   \n",
      "AveBill                           0.547748       0.099848        0.167417   \n",
      "AvePay                            0.032119       0.577927        0.320955   \n",
      "AveAddl                           0.143589       0.395891        0.562104   \n",
      "RatioPayBill                     -0.042253      -0.021958       -0.039283   \n",
      "RatioAddlBill                    -0.050553      -0.052683       -0.038293   \n",
      "RatioPayAddl                     -0.013123       0.004380       -0.017860   \n",
      "RatioBillLimit                    1.000000       0.277407        0.377892   \n",
      "RatioPayLimit                     0.277407       1.000000        0.635616   \n",
      "RatioAddlLimit                    0.377892       0.635616        1.000000   \n",
      "AveOpenCred                      -0.669738      -0.237405       -0.328554   \n",
      "RatioOpenLimit                   -1.000000      -0.277407       -0.377892   \n",
      "RatioAddlOpen                    -0.000713       0.010564        0.013876   \n",
      "\n",
      "                            AveOpenCred  RatioOpenLimit  RatioAddlOpen  \n",
      "ID                             0.015046       -0.010301       0.000823  \n",
      "default payment next month    -0.151704       -0.115480      -0.008128  \n",
      "LIMIT_BAL                      0.878039        0.383362      -0.000163  \n",
      "SEX                            0.038502        0.068846       0.007013  \n",
      "EDUCATION                     -0.229555       -0.170139       0.000005  \n",
      "MARRIAGE                      -0.099045       -0.052171      -0.000341  \n",
      "AGE                            0.121405        0.041710       0.006732  \n",
      "PAY_0                         -0.375555       -0.413448      -0.007225  \n",
      "PAY_2                         -0.424754       -0.496800       0.001585  \n",
      "PAY_3                         -0.413075       -0.486329       0.001579  \n",
      "PAY_4                         -0.398176       -0.486559       0.001999  \n",
      "PAY_5                         -0.386134       -0.486953       0.001658  \n",
      "PAY_6                         -0.374371       -0.479549       0.000963  \n",
      "BILL_AMT1                     -0.178064       -0.506803       0.003845  \n",
      "BILL_AMT2                     -0.195973       -0.531485       0.003803  \n",
      "BILL_AMT3                     -0.191297       -0.534981       0.003099  \n",
      "BILL_AMT4                     -0.181502       -0.530300       0.002198  \n",
      "BILL_AMT5                     -0.173443       -0.517936       0.000631  \n",
      "BILL_AMT6                     -0.167245       -0.504673      -0.000015  \n",
      "PAY_AMT1                       0.085531       -0.044645       0.003216  \n",
      "PAY_AMT2                       0.089623       -0.027074       0.005327  \n",
      "PAY_AMT3                       0.110778       -0.015512       0.002939  \n",
      "PAY_AMT4                       0.112466       -0.016642       0.004565  \n",
      "PAY_AMT5                       0.126751       -0.012572       0.003650  \n",
      "PAY_AMT6                       0.138101        0.007605       0.001401  \n",
      "Addl1                          0.103906       -0.010634       0.003031  \n",
      "Addl2                          0.058468       -0.057105       0.007546  \n",
      "Addl3                          0.014132       -0.127654       0.004907  \n",
      "Addl4                          0.030379       -0.139194       0.008416  \n",
      "Addl5                          0.074688       -0.089824       0.005250  \n",
      "AveBill                       -0.191029       -0.547753       0.002497  \n",
      "AvePay                         0.190467       -0.032123       0.006246  \n",
      "AveAddl                        0.091793       -0.143594       0.009812  \n",
      "RatioPayBill                   0.046578        0.042254      -0.000159  \n",
      "RatioAddlBill                  0.039919        0.050554      -0.000030  \n",
      "RatioPayAddl                   0.005861        0.013123      -0.000132  \n",
      "RatioBillLimit                -0.669738       -1.000000      -0.000713  \n",
      "RatioPayLimit                 -0.237405       -0.277407       0.010564  \n",
      "RatioAddlLimit                -0.328554       -0.377892       0.013876  \n",
      "AveOpenCred                    1.000000        0.669730      -0.001422  \n",
      "RatioOpenLimit                 0.669730        1.000000       0.000713  \n",
      "RatioAddlOpen                 -0.001422        0.000713       1.000000  \n",
      "\n",
      "[42 rows x 42 columns]\n"
     ]
    }
   ],
   "source": [
    "corrMat = credit.corr()\n",
    "print(corrMat)"
   ]
  },
  {
   "cell_type": "code",
   "execution_count": 108,
   "metadata": {},
   "outputs": [
    {
     "name": "stdout",
     "output_type": "stream",
     "text": [
      "                                      ID  default payment next month  \\\n",
      "ID                          7.500250e+07                  -50.151705   \n",
      "default payment next month -5.015171e+01                    0.172276   \n",
      "LIMIT_BAL                   2.941664e+07                -8267.551759   \n",
      "SEX                         7.835638e+01                   -0.008113   \n",
      "EDUCATION                   2.681543e+02                    0.009187   \n",
      "MARRIAGE                   -1.314525e+02                   -0.005273   \n",
      "AGE                         1.491057e+03                    0.053143   \n",
      "PAY_0                      -2.975726e+02                    0.151499   \n",
      "PAY_2                      -1.162770e+02                    0.130960   \n",
      "PAY_3                      -1.916922e+02                    0.116867   \n",
      "PAY_4                      -2.769132e+01                    0.105115   \n",
      "PAY_5                      -2.178600e+02                    0.096020   \n",
      "PAY_6                      -2.018774e+02                    0.089194   \n",
      "BILL_AMT1                   1.236447e+07                 -600.394108   \n",
      "BILL_AMT2                   1.108392e+07                 -419.289137   \n",
      "BILL_AMT3                   1.462688e+07                 -405.153680   \n",
      "BILL_AMT4                   2.248126e+07                 -271.199885   \n",
      "BILL_AMT5                   8.795803e+06                 -170.597447   \n",
      "BILL_AMT6                   8.628506e+06                 -132.796294   \n",
      "PAY_AMT1                    1.397501e+06                 -501.374552   \n",
      "PAY_AMT2                    1.677383e+06                 -560.210740   \n",
      "PAY_AMT3                    5.969803e+06                 -411.076284   \n",
      "PAY_AMT4                    1.057334e+06                 -369.515887   \n",
      "PAY_AMT5                    8.629502e+04                 -349.562530   \n",
      "PAY_AMT6                    4.618460e+05                 -392.426415   \n",
      "Addl1                       2.678047e+06                 -682.479524   \n",
      "Addl2                      -1.865577e+06                 -574.346196   \n",
      "Addl3                      -1.884582e+06                 -545.030079   \n",
      "Addl4                       1.474280e+07                 -470.118324   \n",
      "Addl5                       2.535917e+05                 -387.363683   \n",
      "AveBill                     1.299681e+07                 -333.238416   \n",
      "AvePay                      1.775027e+06                 -430.694404   \n",
      "AveAddl                     2.784855e+06                 -531.867561   \n",
      "RatioPayBill                7.195188e+01                   -0.032965   \n",
      "RatioAddlBill               3.000435e+01                   -0.040496   \n",
      "RatioPayAddl               -1.476875e+03                   -0.051812   \n",
      "RatioBillLimit              3.139752e+01                    0.016867   \n",
      "RatioPayLimit               9.713191e+00                   -0.000848   \n",
      "RatioAddlLimit              6.207923e+00                   -0.001513   \n",
      "AveOpenCred                 1.641983e+07                -7934.313343   \n",
      "RatioOpenLimit             -3.139302e+01                   -0.016867   \n",
      "RatioAddlOpen               1.277550e+02                   -0.060438   \n",
      "\n",
      "                               LIMIT_BAL          SEX     EDUCATION  \\\n",
      "ID                          2.941664e+07    78.356379    268.154338   \n",
      "default payment next month -8.267552e+03    -0.008113      0.009187   \n",
      "LIMIT_BAL                   1.683446e+10  1571.050630 -22474.028945   \n",
      "SEX                         1.571051e+03     0.239247      0.005502   \n",
      "EDUCATION                  -2.247403e+04     0.005502      0.624651   \n",
      "MARRIAGE                   -7.323670e+03    -0.008014     -0.059184   \n",
      "AGE                         1.730767e+05    -0.409726      1.275380   \n",
      "PAY_0                      -3.954593e+04    -0.031685      0.093584   \n",
      "PAY_2                      -4.603765e+04    -0.041442      0.115025   \n",
      "PAY_3                      -4.443225e+04    -0.038694      0.107861   \n",
      "PAY_4                      -4.057181e+04    -0.034411      0.100528   \n",
      "PAY_5                      -3.667056e+04    -0.030521      0.087340   \n",
      "PAY_6                      -3.509308e+04    -0.024754      0.074816   \n",
      "BILL_AMT1                   2.727020e+09 -1211.694332   1372.377644   \n",
      "BILL_AMT2                   2.570130e+09 -1085.595467   1054.657595   \n",
      "BILL_AMT3                   2.548533e+09  -833.207432    712.664124   \n",
      "BILL_AMT4                   2.453926e+09  -688.489572    -22.948827   \n",
      "BILL_AMT5                   2.331481e+09  -505.694333   -363.577664   \n",
      "BILL_AMT6                   2.243837e+09  -487.430160   -428.274232   \n",
      "PAY_AMT1                    4.195711e+08    -1.964266   -490.330155   \n",
      "PAY_AMT2                    5.333504e+08   -15.675500   -547.005021   \n",
      "PAY_AMT3                    4.801180e+08   -74.034812   -555.834305   \n",
      "PAY_AMT4                    4.131202e+08   -17.080110   -473.206951   \n",
      "PAY_AMT5                    4.305657e+08   -12.458809   -487.335947   \n",
      "PAY_AMT6                    5.065153e+08   -24.051885   -522.673379   \n",
      "Addl1                       5.764609e+08  -128.063131   -172.610106   \n",
      "Addl2                       5.549474e+08  -268.063535   -205.011550   \n",
      "Addl3                       5.747254e+08  -218.752671    179.778646   \n",
      "Addl4                       5.355649e+08  -199.875349   -132.578114   \n",
      "Addl5                       5.182095e+08   -30.722983   -422.639380   \n",
      "AveBill                     2.479155e+09  -802.018546    387.483117   \n",
      "AvePay                      4.638735e+08   -24.210895   -512.730953   \n",
      "AveAddl                     5.519816e+08  -169.095534   -150.612101   \n",
      "RatioPayBill                3.185870e+04     0.018725     -0.092991   \n",
      "RatioAddlBill               1.589935e+04    -0.010559     -0.070120   \n",
      "RatioPayAddl                6.473542e+03     0.104451     -0.062660   \n",
      "RatioBillLimit             -1.750350e+04    -0.011851      0.047319   \n",
      "RatioPayLimit              -1.241926e+03    -0.001006      0.002199   \n",
      "RatioAddlLimit             -2.399064e+03    -0.002692      0.007706   \n",
      "AveOpenCred                 1.435530e+10  2373.069176 -22861.512062   \n",
      "RatioOpenLimit              1.750310e+04     0.011850     -0.047318   \n",
      "RatioAddlOpen              -3.796411e+02     0.061447      0.000076   \n",
      "\n",
      "                               MARRIAGE            AGE         PAY_0  \\\n",
      "ID                          -131.452515    1491.057019   -297.572636   \n",
      "default payment next month    -0.005273       0.053143      0.151499   \n",
      "LIMIT_BAL                  -7323.669658  173076.722569 -39545.930009   \n",
      "SEX                           -0.008014      -0.409726     -0.031685   \n",
      "EDUCATION                     -0.059184       1.275380      0.093584   \n",
      "MARRIAGE                       0.272452      -1.992764      0.011683   \n",
      "AGE                           -1.992764      84.969755     -0.408639   \n",
      "PAY_0                          0.011683      -0.408639      1.262930   \n",
      "PAY_2                          0.015122      -0.553408      0.904330   \n",
      "PAY_3                          0.020421      -0.585263      0.772384   \n",
      "PAY_4                          0.020213      -0.535851      0.707972   \n",
      "PAY_5                          0.021074      -0.562245      0.648743   \n",
      "PAY_6                          0.020616      -0.517022      0.613292   \n",
      "BILL_AMT1                   -902.154685   38172.933546  15480.304170   \n",
      "BILL_AMT2                   -802.517866   35613.657962  15185.916919   \n",
      "BILL_AMT3                   -901.679085   34334.251320  14011.556537   \n",
      "BILL_AMT4                   -783.881599   30453.108180  12950.248389   \n",
      "BILL_AMT5                   -805.840875   27654.067800  12341.668685   \n",
      "BILL_AMT6                   -659.223347   26137.648547  11844.759724   \n",
      "PAY_AMT1                     -51.691615    3992.041735  -1475.495089   \n",
      "PAY_AMT2                     -97.327974    4626.861549  -1815.138407   \n",
      "PAY_AMT3                     -32.546082    4746.824393  -1396.168258   \n",
      "PAY_AMT4                    -103.518204    3087.324192  -1126.847945   \n",
      "PAY_AMT5                      -9.607709    3218.052172   -999.107730   \n",
      "PAY_AMT6                     -61.623271    3191.903901  -1172.193614   \n",
      "Addl1                       -151.328434    6551.317319  -1181.107838   \n",
      "Addl2                          1.833245    5906.268192   -640.778025   \n",
      "Addl3                       -150.343568    8627.967532   -334.860110   \n",
      "Addl4                        -81.558928    5886.364573   -518.268240   \n",
      "Addl5                       -156.225237    4734.471425   -502.198769   \n",
      "AveBill                     -809.216258   32060.944740  13635.742444   \n",
      "AvePay                       -59.385820    3810.501325  -1330.825182   \n",
      "AveAddl                     -107.524584    6341.277808   -635.442597   \n",
      "RatioPayBill                  -0.002065       0.116117     -0.274860   \n",
      "RatioAddlBill                  0.016908       0.120649     -0.271461   \n",
      "RatioPayAddl                   0.193819      -1.490952      0.225017   \n",
      "RatioBillLimit                 0.009583      -0.135300      0.163502   \n",
      "RatioPayLimit                  0.001749      -0.023989     -0.000725   \n",
      "RatioAddlLimit                 0.002192      -0.014176      0.005186   \n",
      "AveOpenCred                -6514.453400  141015.777829 -53181.672453   \n",
      "RatioOpenLimit                -0.009583       0.135295     -0.163500   \n",
      "RatioAddlOpen                 -0.003188       1.111684     -0.145453   \n",
      "\n",
      "                                   PAY_2         PAY_3      ...        \\\n",
      "ID                           -116.276959   -191.692156      ...         \n",
      "default payment next month      0.130960      0.116867      ...         \n",
      "LIMIT_BAL                  -46037.648360 -44432.253315      ...         \n",
      "SEX                            -0.041442     -0.038694      ...         \n",
      "EDUCATION                       0.115025      0.107861      ...         \n",
      "MARRIAGE                        0.015122      0.020421      ...         \n",
      "AGE                            -0.553408     -0.585263      ...         \n",
      "PAY_0                           0.904330      0.772384      ...         \n",
      "PAY_2                           1.433254      1.098371      ...         \n",
      "PAY_3                           1.098371      1.432492      ...         \n",
      "PAY_4                           0.926680      1.087761      ...         \n",
      "PAY_5                           0.844886      0.931455      ...         \n",
      "PAY_6                           0.792320      0.870815      ...         \n",
      "BILL_AMT1                   20706.614217  18373.210469      ...         \n",
      "BILL_AMT2                   20045.829482  20214.071495      ...         \n",
      "BILL_AMT3                   18609.510991  18882.491544      ...         \n",
      "BILL_AMT4                   17116.298983  17494.100555      ...         \n",
      "BILL_AMT5                   16110.952468  16382.947539      ...         \n",
      "BILL_AMT6                   15642.875812  15847.089648      ...         \n",
      "PAY_AMT1                    -1600.240756     25.668468      ...         \n",
      "PAY_AMT2                    -1627.192336  -1841.952825      ...         \n",
      "PAY_AMT3                    -1178.331282  -1123.428782      ...         \n",
      "PAY_AMT4                     -878.843879   -863.762183      ...         \n",
      "PAY_AMT5                     -678.468530   -655.796002      ...         \n",
      "PAY_AMT6                     -776.835035   -763.026041      ...         \n",
      "Addl1                        -939.456022  -1815.192558      ...         \n",
      "Addl2                        -190.873844   -510.372874      ...         \n",
      "Addl3                         314.880725    264.962207      ...         \n",
      "Addl4                         126.502636    247.390833      ...         \n",
      "Addl5                        -210.391874   -119.938111      ...         \n",
      "AveBill                     18038.680371  17865.651889      ...         \n",
      "AvePay                      -1123.318647   -870.382909      ...         \n",
      "AveAddl                      -179.867676   -386.630101      ...         \n",
      "RatioPayBill                   -0.361792     -0.346541      ...         \n",
      "RatioAddlBill                  -0.269517     -0.279498      ...         \n",
      "RatioPayAddl                   -0.855130     -0.749826      ...         \n",
      "RatioBillLimit                  0.209293      0.204828      ...         \n",
      "RatioPayLimit                   0.001016      0.002433      ...         \n",
      "RatioAddlLimit                  0.009580      0.006388      ...         \n",
      "AveOpenCred                -64076.328730 -62297.905204      ...         \n",
      "RatioOpenLimit                 -0.209291     -0.204825      ...         \n",
      "RatioAddlOpen                   0.033986      0.033857      ...         \n",
      "\n",
      "                                 AveAddl  RatioPayBill  RatioAddlBill  \\\n",
      "ID                          2.784855e+06     71.951880      30.004352   \n",
      "default payment next month -5.318676e+02     -0.032965      -0.040496   \n",
      "LIMIT_BAL                   5.519816e+08  31858.701890   15899.347970   \n",
      "SEX                        -1.690955e+02      0.018725      -0.010559   \n",
      "EDUCATION                  -1.506121e+02     -0.092991      -0.070120   \n",
      "MARRIAGE                   -1.075246e+02     -0.002065       0.016908   \n",
      "AGE                         6.341278e+03      0.116117       0.120649   \n",
      "PAY_0                      -6.354426e+02     -0.274860      -0.271461   \n",
      "PAY_2                      -1.798677e+02     -0.361792      -0.269517   \n",
      "PAY_3                      -3.866301e+02     -0.346541      -0.279498   \n",
      "PAY_4                      -4.492549e+02     -0.318162      -0.282764   \n",
      "PAY_5                      -4.196459e+02     -0.313363      -0.287447   \n",
      "PAY_6                      -4.972887e+02     -0.314644      -0.311466   \n",
      "BILL_AMT1                   5.631905e+08 -16532.915679  -11432.605452   \n",
      "BILL_AMT2                   4.965387e+08 -14994.154480  -11559.811592   \n",
      "BILL_AMT3                   4.648608e+08 -12648.403842  -10075.557964   \n",
      "BILL_AMT4                   3.616442e+08 -12534.825500  -11241.402882   \n",
      "BILL_AMT5                   2.884187e+08 -11486.929339  -10986.948328   \n",
      "BILL_AMT6                   2.331890e+08 -10802.673030  -11249.184160   \n",
      "PAY_AMT1                    1.040132e+08  -2368.570023   -2633.621979   \n",
      "PAY_AMT2                    1.599011e+08    587.650923     858.307981   \n",
      "PAY_AMT3                    1.087260e+08    133.019644     204.252315   \n",
      "PAY_AMT4                    8.147644e+07    292.894166     107.428534   \n",
      "PAY_AMT5                    6.435217e+07    838.540639     432.697902   \n",
      "PAY_AMT6                    7.374357e+07   7872.823385    -466.670987   \n",
      "Addl1                       1.706650e+08  -3907.331222   -2506.415839   \n",
      "Addl2                       1.915790e+08  -1758.099714    -625.945647   \n",
      "Addl3                       2.119427e+08     19.441302    1370.097233   \n",
      "Addl4                       1.547019e+08   -755.001995    -147.026019   \n",
      "Addl5                       1.195818e+08    154.284330     694.933734   \n",
      "AveBill                     4.013070e+08 -13166.650422  -11090.918307   \n",
      "AvePay                      9.870208e+07   1226.059752    -249.601067   \n",
      "AveAddl                     1.696941e+08  -1249.341460    -242.871308   \n",
      "RatioPayBill               -1.249341e+03     58.850391      29.017176   \n",
      "RatioAddlBill              -2.428713e+02     29.017176      29.143433   \n",
      "RatioPayAddl               -8.388412e+03      3.266726      -0.379638   \n",
      "RatioBillLimit              6.582033e+02     -0.114061      -0.095808   \n",
      "RatioPayLimit               2.714063e+02     -0.008865      -0.015066   \n",
      "RatioAddlLimit              5.701722e+02     -0.023466      -0.016188   \n",
      "AveOpenCred                 1.506746e+08  45025.352313   26990.266276   \n",
      "RatioOpenLimit             -6.582268e+02      0.114064       0.095810   \n",
      "RatioAddlOpen               2.289799e+03     -0.021850      -0.002916   \n",
      "\n",
      "                            RatioPayAddl  RatioBillLimit  RatioPayLimit  \\\n",
      "ID                          -1476.875474       31.397517       9.713191   \n",
      "default payment next month     -0.051812        0.016867      -0.000848   \n",
      "LIMIT_BAL                    6473.542184   -17503.496585   -1241.925525   \n",
      "SEX                             0.104451       -0.011851      -0.001006   \n",
      "EDUCATION                      -0.062660        0.047319       0.002199   \n",
      "MARRIAGE                        0.193819        0.009583       0.001749   \n",
      "AGE                            -1.490952       -0.135300      -0.023989   \n",
      "PAY_0                           0.225017        0.163502      -0.000725   \n",
      "PAY_2                          -0.855130        0.209293       0.001016   \n",
      "PAY_3                          -0.749826        0.204828       0.002433   \n",
      "PAY_4                          -0.566964        0.200177       0.003544   \n",
      "PAY_5                          -0.406113        0.194179       0.004165   \n",
      "PAY_6                           0.057395        0.194061       0.004913   \n",
      "BILL_AMT1                  -48952.314379    13131.975780     165.608836   \n",
      "BILL_AMT2                  -42870.123496    13311.054712     264.726014   \n",
      "BILL_AMT3                  -36141.691922    13055.186262     447.547396   \n",
      "BILL_AMT4                  -27499.423803    12004.832572     365.457625   \n",
      "BILL_AMT5                  -17736.017659    11080.549090     369.696426   \n",
      "BILL_AMT6                   -4330.133272    10576.046187     381.475527   \n",
      "PAY_AMT1                    -2705.760967      260.190841     312.701489   \n",
      "PAY_AMT2                    -2357.372991      219.496976     477.818131   \n",
      "PAY_AMT3                    -1365.613904       96.094936     296.704768   \n",
      "PAY_AMT4                     1492.550771       91.727170     258.189746   \n",
      "PAY_AMT5                     7616.317149       67.576852     227.484039   \n",
      "PAY_AMT6                    13014.383006      -47.590329     277.159333   \n",
      "Addl1                       -8787.951850       81.111909     213.584312   \n",
      "Addl2                       -9085.804566      475.365427     294.996749   \n",
      "Addl3                      -10007.882023     1146.448626     378.794539   \n",
      "Addl4                       -8270.855373     1016.010652     253.950944   \n",
      "Addl5                       -5789.567238      572.079755     215.704938   \n",
      "AveBill                    -29588.285109    12193.274108     332.418636   \n",
      "AvePay                       2615.750453      114.582732     308.342917   \n",
      "AveAddl                     -8388.412210      658.203274     271.406296   \n",
      "RatioPayBill                    3.266726       -0.114061      -0.008865   \n",
      "RatioAddlBill                  -0.379638       -0.095808      -0.015066   \n",
      "RatioPayAddl                 2384.315535       -0.225484       0.011255   \n",
      "RatioBillLimit                 -0.225484        0.123826       0.005137   \n",
      "RatioPayLimit                   0.011255        0.005137       0.002770   \n",
      "RatioAddlLimit                 -0.067908        0.010355       0.002605   \n",
      "AveOpenCred                 36061.827294   -29696.770693   -1574.344161   \n",
      "RatioOpenLimit                  0.225490       -0.123826      -0.005137   \n",
      "RatioAddlOpen                  -0.115718       -0.004492       0.009960   \n",
      "\n",
      "                            RatioAddlLimit   AveOpenCred  RatioOpenLimit  \\\n",
      "ID                                6.207923  1.641983e+07      -31.393018   \n",
      "default payment next month       -0.001513 -7.934313e+03       -0.016867   \n",
      "LIMIT_BAL                     -2399.063891  1.435530e+10    17503.099385   \n",
      "SEX                              -0.002692  2.373069e+03        0.011850   \n",
      "EDUCATION                         0.007706 -2.286151e+04       -0.047318   \n",
      "MARRIAGE                          0.002192 -6.514453e+03       -0.009583   \n",
      "AGE                              -0.014176  1.410158e+05        0.135295   \n",
      "PAY_0                             0.005186 -5.318167e+04       -0.163500   \n",
      "PAY_2                             0.009580 -6.407633e+04       -0.209291   \n",
      "PAY_3                             0.006388 -6.229791e+04       -0.204825   \n",
      "PAY_4                             0.003739 -5.865971e+04       -0.200174   \n",
      "PAY_5                             0.001565 -5.513648e+04       -0.194176   \n",
      "PAY_6                            -0.000750 -5.424924e+04       -0.194059   \n",
      "BILL_AMT1                      1553.971198 -1.652210e+09   -13132.137528   \n",
      "BILL_AMT2                      1285.662005 -1.757576e+09   -13311.209681   \n",
      "BILL_AMT3                      1111.019193 -1.671667e+09   -13055.335658   \n",
      "BILL_AMT4                       613.611951 -1.471344e+09   -12004.967966   \n",
      "BILL_AMT5                       306.792471 -1.328734e+09   -11080.677513   \n",
      "BILL_AMT6                        77.059851 -1.255056e+09   -10576.166766   \n",
      "PAY_AMT1                        282.818898  1.785133e+08     -260.208575   \n",
      "PAY_AMT2                        461.643146  2.602064e+08     -219.514779   \n",
      "PAY_AMT3                        263.747445  2.457735e+08      -96.108851   \n",
      "PAY_AMT4                        217.640654  2.220149e+08      -91.743039   \n",
      "PAY_AMT5                        148.099313  2.440191e+08      -67.588157   \n",
      "PAY_AMT6                        146.255421  3.093614e+08       47.574241   \n",
      "Addl1                           551.128091  2.838796e+08      -81.136422   \n",
      "Addl2                           636.285958  1.742970e+08     -475.388802   \n",
      "Addl3                           761.154687  4.545030e+07    -1146.476542   \n",
      "Addl4                           524.460134  7.940509e+07    -1016.033492   \n",
      "Addl5                           377.831933  1.703412e+08     -572.098905   \n",
      "AveBill                         824.686111 -1.522764e+09   -12193.415859   \n",
      "AvePay                          253.367478  2.433148e+08     -114.598184   \n",
      "AveAddl                         570.172161  1.506746e+08     -658.226833   \n",
      "RatioPayBill                     -0.023466  4.502535e+04        0.114064   \n",
      "RatioAddlBill                    -0.016188  2.699027e+04        0.095810   \n",
      "RatioPayAddl                     -0.067908  3.606183e+04        0.225490   \n",
      "RatioBillLimit                    0.010355 -2.969677e+04       -0.123826   \n",
      "RatioPayLimit                     0.002605 -1.574344e+03       -0.005137   \n",
      "RatioAddlLimit                    0.006063 -3.223750e+03       -0.010355   \n",
      "AveOpenCred                   -3223.750002  1.587807e+10    29696.515244   \n",
      "RatioOpenLimit                   -0.010355  2.969652e+04        0.123826   \n",
      "RatioAddlOpen                     0.019357 -3.209148e+03        0.004493   \n",
      "\n",
      "                            RatioAddlOpen  \n",
      "ID                             127.754972  \n",
      "default payment next month      -0.060438  \n",
      "LIMIT_BAL                     -379.641055  \n",
      "SEX                              0.061447  \n",
      "EDUCATION                        0.000076  \n",
      "MARRIAGE                        -0.003188  \n",
      "AGE                              1.111684  \n",
      "PAY_0                           -0.145453  \n",
      "PAY_2                            0.033986  \n",
      "PAY_3                            0.033857  \n",
      "PAY_4                            0.041871  \n",
      "PAY_5                            0.033654  \n",
      "PAY_6                            0.019844  \n",
      "BILL_AMT1                     5072.726097  \n",
      "BILL_AMT2                     4849.493690  \n",
      "BILL_AMT3                     3850.245953  \n",
      "BILL_AMT4                     2533.586064  \n",
      "BILL_AMT5                      687.091025  \n",
      "BILL_AMT6                      -16.102195  \n",
      "PAY_AMT1                       954.119048  \n",
      "PAY_AMT2                      2198.936113  \n",
      "PAY_AMT3                       927.115016  \n",
      "PAY_AMT4                      1281.051990  \n",
      "PAY_AMT5                       998.945430  \n",
      "PAY_AMT6                       446.308865  \n",
      "Addl1                         1177.351454  \n",
      "Addl2                         3198.183850  \n",
      "Addl3                         2243.774905  \n",
      "Addl4                         3127.547029  \n",
      "Addl5                         1702.138651  \n",
      "AveBill                       2829.506911  \n",
      "AvePay                        1134.412498  \n",
      "AveAddl                       2289.799178  \n",
      "RatioPayBill                    -0.021850  \n",
      "RatioAddlBill                   -0.002916  \n",
      "RatioPayAddl                    -0.115718  \n",
      "RatioBillLimit                  -0.004492  \n",
      "RatioPayLimit                    0.009960  \n",
      "RatioAddlLimit                   0.019357  \n",
      "AveOpenCred                  -3209.147966  \n",
      "RatioOpenLimit                   0.004493  \n",
      "RatioAddlOpen                  320.921659  \n",
      "\n",
      "[42 rows x 42 columns]\n"
     ]
    }
   ],
   "source": [
    "covMat = credit.cov()\n",
    "print(covMat)"
   ]
  },
  {
   "cell_type": "code",
   "execution_count": 107,
   "metadata": {},
   "outputs": [
    {
     "data": {
      "image/png": "[encoded data removed]",
      "text/plain": [
       "<matplotlib.figure.Figure at 0xf215940>"
      ]
     },
     "metadata": {},
     "output_type": "display_data"
    }
   ],
   "source": [
    "x = credit['default payment next month']\n",
    "y = credit['LIMIT_BAL']\n",
    "plt.scatter(x, y) \n",
    "#plt.title('Pay Comparsion')\n",
    "#plt.xlabel('Pay 0')\n",
    "#plt.ylabel('Pay 2')\n",
    "plt.show()\n",
    "\n",
    "#Here are the actual meanings:\n",
    "#0 = not default, 1 = default"
   ]
  },
  {
   "cell_type": "code",
   "execution_count": 112,
   "metadata": {},
   "outputs": [
    {
     "name": "stdout",
     "output_type": "stream",
     "text": [
      "<class 'pandas.core.frame.DataFrame'>\n",
      "RangeIndex: 30000 entries, 0 to 29999\n",
      "Data columns (total 42 columns):\n",
      "ID                30000 non-null int64\n",
      "default           30000 non-null int64\n",
      "LIMIT_BAL         30000 non-null int64\n",
      "SEX               30000 non-null int64\n",
      "EDUCATION         30000 non-null int64\n",
      "MARRIAGE          30000 non-null int64\n",
      "AGE               30000 non-null int64\n",
      "PAY_0             30000 non-null int64\n",
      "PAY_2             30000 non-null int64\n",
      "PAY_3             30000 non-null int64\n",
      "PAY_4             30000 non-null int64\n",
      "PAY_5             30000 non-null int64\n",
      "PAY_6             30000 non-null int64\n",
      "BILL_AMT1         30000 non-null int64\n",
      "BILL_AMT2         30000 non-null int64\n",
      "BILL_AMT3         30000 non-null int64\n",
      "BILL_AMT4         30000 non-null int64\n",
      "BILL_AMT5         30000 non-null int64\n",
      "BILL_AMT6         30000 non-null int64\n",
      "PAY_AMT1          30000 non-null int64\n",
      "PAY_AMT2          30000 non-null int64\n",
      "PAY_AMT3          30000 non-null int64\n",
      "PAY_AMT4          30000 non-null int64\n",
      "PAY_AMT5          30000 non-null int64\n",
      "PAY_AMT6          30000 non-null int64\n",
      "Addl1             30000 non-null int64\n",
      "Addl2             30000 non-null int64\n",
      "Addl3             30000 non-null int64\n",
      "Addl4             30000 non-null int64\n",
      "Addl5             30000 non-null int64\n",
      "AveBill           30000 non-null float64\n",
      "AvePay            30000 non-null float64\n",
      "AveAddl           30000 non-null float64\n",
      "RatioPayBill      30000 non-null float64\n",
      "RatioAddlBill     29130 non-null float64\n",
      "RatioPayAddl      30000 non-null float64\n",
      "RatioBillLimit    30000 non-null float64\n",
      "RatioPayLimit     30000 non-null float64\n",
      "RatioAddlLimit    30000 non-null float64\n",
      "AveOpenCred       30000 non-null float64\n",
      "RatioOpenLimit    30000 non-null float64\n",
      "RatioAddlOpen     30000 non-null float64\n",
      "dtypes: float64(12), int64(30)\n",
      "memory usage: 9.6 MB\n"
     ]
    }
   ],
   "source": [
    "credit = credit.rename(columns={'default payment next month': 'default'})\n",
    "credit.info()"
   ]
  },
  {
   "cell_type": "code",
   "execution_count": 114,
   "metadata": {},
   "outputs": [
    {
     "data": {
      "text/plain": [
       "0.2212"
      ]
     },
     "execution_count": 114,
     "metadata": {},
     "output_type": "execute_result"
    }
   ],
   "source": [
    "#overall default rate of 22%\n",
    "credit.default.sum()/credit.default.count()\n",
    "#I wonder what the timeframe for counting defaults was?  "
   ]
  },
  {
   "cell_type": "code",
   "execution_count": 115,
   "metadata": {},
   "outputs": [
    {
     "data": {
      "text/plain": [
       "default  SEX  EDUCATION  MARRIAGE\n",
       "0        1    0          1              2\n",
       "                         2              6\n",
       "              1          0              1\n",
       "                         1           1300\n",
       "                         2           2127\n",
       "                         3             20\n",
       "              2          0              1\n",
       "                         1           1727\n",
       "                         2           2194\n",
       "                         3             44\n",
       "              3          0             10\n",
       "                         1            745\n",
       "                         2            665\n",
       "                         3             25\n",
       "              4          1             16\n",
       "                         2             21\n",
       "                         3              1\n",
       "              5          1             44\n",
       "                         2             44\n",
       "                         3              1\n",
       "              6          1             10\n",
       "                         2             11\n",
       "         2    0          1              2\n",
       "                         2              4\n",
       "              1          0              3\n",
       "                         1           1653\n",
       "                         2           3428\n",
       "                         3             17\n",
       "              2          0              4\n",
       "                         1           3449\n",
       "                                     ... \n",
       "1        1    1          3             10\n",
       "              2          1            643\n",
       "                         2            746\n",
       "                         3             19\n",
       "              3          0              2\n",
       "                         1            303\n",
       "                         2            229\n",
       "                         3             11\n",
       "              4          1              2\n",
       "                         2              2\n",
       "              5          1              4\n",
       "                         2              2\n",
       "              6          1              4\n",
       "         2    1          1            379\n",
       "                         2            748\n",
       "                         3              3\n",
       "              2          0              1\n",
       "                         1           1023\n",
       "                         2            873\n",
       "                         3             25\n",
       "              3          0              2\n",
       "                         1            451\n",
       "                         2            223\n",
       "                         3             16\n",
       "              4          1              1\n",
       "                         2              2\n",
       "              5          1              5\n",
       "                         2              7\n",
       "              6          1              1\n",
       "                         2              3\n",
       "Length: 77, dtype: int64"
      ]
     },
     "execution_count": 115,
     "metadata": {},
     "output_type": "execute_result"
    }
   ],
   "source": [
    "credit.groupby(['default','SEX','EDUCATION','MARRIAGE']).size()"
   ]
  },
  {
   "cell_type": "code",
   "execution_count": 116,
   "metadata": {},
   "outputs": [
    {
     "data": {
      "text/plain": [
       "default  SEX\n",
       "0        1       9015\n",
       "         2      14349\n",
       "1        1       2873\n",
       "         2       3763\n",
       "dtype: int64"
      ]
     },
     "execution_count": 116,
     "metadata": {},
     "output_type": "execute_result"
    }
   ],
   "source": [
    "credit.groupby(['default','SEX']).size()"
   ]
  },
  {
   "cell_type": "code",
   "execution_count": 118,
   "metadata": {},
   "outputs": [
    {
     "data": {
      "text/plain": [
       "<matplotlib.axes._subplots.AxesSubplot at 0xf2f8ba8>"
      ]
     },
     "execution_count": 118,
     "metadata": {},
     "output_type": "execute_result"
    },
    {
     "data": {
      "image/png": "[encoded data removed]",
      "text/plain": [
       "<matplotlib.figure.Figure at 0xf2d4e48>"
      ]
     },
     "metadata": {},
     "output_type": "display_data"
    }
   ],
   "source": [
    "credit.groupby(['default','SEX']).size().unstack().plot(kind='bar', stacked = True)"
   ]
  },
  {
   "cell_type": "code",
   "execution_count": 119,
   "metadata": {},
   "outputs": [
    {
     "data": {
      "text/plain": [
       "<matplotlib.axes._subplots.AxesSubplot at 0xf2974e0>"
      ]
     },
     "execution_count": 119,
     "metadata": {},
     "output_type": "execute_result"
    },
    {
     "data": {
      "image/png": "[encoded data removed]",
      "text/plain": [
       "<matplotlib.figure.Figure at 0xf6969b0>"
      ]
     },
     "metadata": {},
     "output_type": "display_data"
    }
   ],
   "source": [
    "credit.groupby(['SEX','default']).size().unstack().plot(kind='bar', stacked = True)\n",
    "#this one is more useful, will need to put default last on future ones\n",
    "#I wonder if we can find a pie one, something that will label the percentages"
   ]
  },
  {
   "cell_type": "code",
   "execution_count": 127,
   "metadata": {},
   "outputs": [
    {
     "data": {
      "text/html": [
       "<div>\n",
       "<style scoped>\n",
       "    .dataframe tbody tr th:only-of-type {\n",
       "        vertical-align: middle;\n",
       "    }\n",
       "\n",
       "    .dataframe tbody tr th {\n",
       "        vertical-align: top;\n",
       "    }\n",
       "\n",
       "    .dataframe thead th {\n",
       "        text-align: right;\n",
       "    }\n",
       "</style>\n",
       "<table border=\"1\" class=\"dataframe\">\n",
       "  <thead>\n",
       "    <tr style=\"text-align: right;\">\n",
       "      <th></th>\n",
       "      <th>SEX</th>\n",
       "      <th>default</th>\n",
       "    </tr>\n",
       "  </thead>\n",
       "  <tbody>\n",
       "    <tr>\n",
       "      <th>0</th>\n",
       "      <td>1</td>\n",
       "      <td>0.241672</td>\n",
       "    </tr>\n",
       "    <tr>\n",
       "      <th>1</th>\n",
       "      <td>2</td>\n",
       "      <td>0.207763</td>\n",
       "    </tr>\n",
       "  </tbody>\n",
       "</table>\n",
       "</div>"
      ],
      "text/plain": [
       "   SEX   default\n",
       "0    1  0.241672\n",
       "1    2  0.207763"
      ]
     },
     "execution_count": 127,
     "metadata": {},
     "output_type": "execute_result"
    }
   ],
   "source": [
    "credit[[\"SEX\", \"default\"]].groupby(['SEX'],as_index=False).mean()\n",
    "#1 = Male, 2 = Female\n",
    "#Males a little more likely to default, but not a strong difference"
   ]
  },
  {
   "cell_type": "code",
   "execution_count": 123,
   "metadata": {},
   "outputs": [
    {
     "data": {
      "text/html": [
       "<div>\n",
       "<style scoped>\n",
       "    .dataframe tbody tr th:only-of-type {\n",
       "        vertical-align: middle;\n",
       "    }\n",
       "\n",
       "    .dataframe tbody tr th {\n",
       "        vertical-align: top;\n",
       "    }\n",
       "\n",
       "    .dataframe thead th {\n",
       "        text-align: right;\n",
       "    }\n",
       "</style>\n",
       "<table border=\"1\" class=\"dataframe\">\n",
       "  <thead>\n",
       "    <tr style=\"text-align: right;\">\n",
       "      <th></th>\n",
       "      <th>EDUCATION</th>\n",
       "      <th>default</th>\n",
       "    </tr>\n",
       "  </thead>\n",
       "  <tbody>\n",
       "    <tr>\n",
       "      <th>0</th>\n",
       "      <td>0</td>\n",
       "      <td>0.000000</td>\n",
       "    </tr>\n",
       "    <tr>\n",
       "      <th>1</th>\n",
       "      <td>1</td>\n",
       "      <td>0.192348</td>\n",
       "    </tr>\n",
       "    <tr>\n",
       "      <th>2</th>\n",
       "      <td>2</td>\n",
       "      <td>0.237349</td>\n",
       "    </tr>\n",
       "    <tr>\n",
       "      <th>3</th>\n",
       "      <td>3</td>\n",
       "      <td>0.251576</td>\n",
       "    </tr>\n",
       "    <tr>\n",
       "      <th>4</th>\n",
       "      <td>4</td>\n",
       "      <td>0.056911</td>\n",
       "    </tr>\n",
       "    <tr>\n",
       "      <th>5</th>\n",
       "      <td>5</td>\n",
       "      <td>0.064286</td>\n",
       "    </tr>\n",
       "    <tr>\n",
       "      <th>6</th>\n",
       "      <td>6</td>\n",
       "      <td>0.156863</td>\n",
       "    </tr>\n",
       "  </tbody>\n",
       "</table>\n",
       "</div>"
      ],
      "text/plain": [
       "   EDUCATION   default\n",
       "0          0  0.000000\n",
       "1          1  0.192348\n",
       "2          2  0.237349\n",
       "3          3  0.251576\n",
       "4          4  0.056911\n",
       "5          5  0.064286\n",
       "6          6  0.156863"
      ]
     },
     "execution_count": 123,
     "metadata": {},
     "output_type": "execute_result"
    }
   ],
   "source": [
    "credit[[\"EDUCATION\", \"default\"]].groupby(['EDUCATION'],as_index=False).mean()\n",
    "#only 14 education = 0s, so maybe we should add the sum to eyeball relevance"
   ]
  },
  {
   "cell_type": "code",
   "execution_count": 132,
   "metadata": {},
   "outputs": [
    {
     "data": {
      "text/html": [
       "<div>\n",
       "<style scoped>\n",
       "    .dataframe tbody tr th:only-of-type {\n",
       "        vertical-align: middle;\n",
       "    }\n",
       "\n",
       "    .dataframe tbody tr th {\n",
       "        vertical-align: top;\n",
       "    }\n",
       "\n",
       "    .dataframe thead tr th {\n",
       "        text-align: left;\n",
       "    }\n",
       "\n",
       "    .dataframe thead tr:last-of-type th {\n",
       "        text-align: right;\n",
       "    }\n",
       "</style>\n",
       "<table border=\"1\" class=\"dataframe\">\n",
       "  <thead>\n",
       "    <tr>\n",
       "      <th></th>\n",
       "      <th colspan=\"2\" halign=\"left\">default</th>\n",
       "    </tr>\n",
       "    <tr>\n",
       "      <th></th>\n",
       "      <th>count</th>\n",
       "      <th>mean</th>\n",
       "    </tr>\n",
       "    <tr>\n",
       "      <th>SEX</th>\n",
       "      <th></th>\n",
       "      <th></th>\n",
       "    </tr>\n",
       "  </thead>\n",
       "  <tbody>\n",
       "    <tr>\n",
       "      <th>1</th>\n",
       "      <td>11888</td>\n",
       "      <td>0.241672</td>\n",
       "    </tr>\n",
       "    <tr>\n",
       "      <th>2</th>\n",
       "      <td>18112</td>\n",
       "      <td>0.207763</td>\n",
       "    </tr>\n",
       "  </tbody>\n",
       "</table>\n",
       "</div>"
      ],
      "text/plain": [
       "    default          \n",
       "      count      mean\n",
       "SEX                  \n",
       "1     11888  0.241672\n",
       "2     18112  0.207763"
      ]
     },
     "execution_count": 132,
     "metadata": {},
     "output_type": "execute_result"
    }
   ],
   "source": [
    "credit[[\"SEX\", \"default\"]].groupby(['SEX'],as_index=False).agg(['count','mean'])\n",
    "#1 = Male, 2 = Female"
   ]
  },
  {
   "cell_type": "code",
   "execution_count": 135,
   "metadata": {},
   "outputs": [
    {
     "data": {
      "text/html": [
       "<div>\n",
       "<style scoped>\n",
       "    .dataframe tbody tr th:only-of-type {\n",
       "        vertical-align: middle;\n",
       "    }\n",
       "\n",
       "    .dataframe tbody tr th {\n",
       "        vertical-align: top;\n",
       "    }\n",
       "\n",
       "    .dataframe thead tr th {\n",
       "        text-align: left;\n",
       "    }\n",
       "\n",
       "    .dataframe thead tr:last-of-type th {\n",
       "        text-align: right;\n",
       "    }\n",
       "</style>\n",
       "<table border=\"1\" class=\"dataframe\">\n",
       "  <thead>\n",
       "    <tr>\n",
       "      <th></th>\n",
       "      <th colspan=\"2\" halign=\"left\">default</th>\n",
       "    </tr>\n",
       "    <tr>\n",
       "      <th></th>\n",
       "      <th>count</th>\n",
       "      <th>mean</th>\n",
       "    </tr>\n",
       "    <tr>\n",
       "      <th>SEX</th>\n",
       "      <th></th>\n",
       "      <th></th>\n",
       "    </tr>\n",
       "  </thead>\n",
       "  <tbody>\n",
       "    <tr>\n",
       "      <th>1</th>\n",
       "      <td>11888</td>\n",
       "      <td>0.241672</td>\n",
       "    </tr>\n",
       "    <tr>\n",
       "      <th>2</th>\n",
       "      <td>18112</td>\n",
       "      <td>0.207763</td>\n",
       "    </tr>\n",
       "  </tbody>\n",
       "</table>\n",
       "</div>"
      ],
      "text/plain": [
       "    default          \n",
       "      count      mean\n",
       "SEX                  \n",
       "1     11888  0.241672\n",
       "2     18112  0.207763"
      ]
     },
     "execution_count": 135,
     "metadata": {},
     "output_type": "execute_result"
    }
   ],
   "source": [
    "credit[[\"SEX\", \"default\"]].groupby(['SEX']).agg({'default': ['count','mean']})"
   ]
  },
  {
   "cell_type": "code",
   "execution_count": 137,
   "metadata": {},
   "outputs": [
    {
     "data": {
      "text/html": [
       "<div>\n",
       "<style scoped>\n",
       "    .dataframe tbody tr th:only-of-type {\n",
       "        vertical-align: middle;\n",
       "    }\n",
       "\n",
       "    .dataframe tbody tr th {\n",
       "        vertical-align: top;\n",
       "    }\n",
       "\n",
       "    .dataframe thead tr th {\n",
       "        text-align: left;\n",
       "    }\n",
       "\n",
       "    .dataframe thead tr:last-of-type th {\n",
       "        text-align: right;\n",
       "    }\n",
       "</style>\n",
       "<table border=\"1\" class=\"dataframe\">\n",
       "  <thead>\n",
       "    <tr>\n",
       "      <th></th>\n",
       "      <th colspan=\"2\" halign=\"left\">default</th>\n",
       "    </tr>\n",
       "    <tr>\n",
       "      <th></th>\n",
       "      <th>count</th>\n",
       "      <th>mean</th>\n",
       "    </tr>\n",
       "    <tr>\n",
       "      <th>EDUCATION</th>\n",
       "      <th></th>\n",
       "      <th></th>\n",
       "    </tr>\n",
       "  </thead>\n",
       "  <tbody>\n",
       "    <tr>\n",
       "      <th>0</th>\n",
       "      <td>14</td>\n",
       "      <td>0.000000</td>\n",
       "    </tr>\n",
       "    <tr>\n",
       "      <th>1</th>\n",
       "      <td>10585</td>\n",
       "      <td>0.192348</td>\n",
       "    </tr>\n",
       "    <tr>\n",
       "      <th>2</th>\n",
       "      <td>14030</td>\n",
       "      <td>0.237349</td>\n",
       "    </tr>\n",
       "    <tr>\n",
       "      <th>3</th>\n",
       "      <td>4917</td>\n",
       "      <td>0.251576</td>\n",
       "    </tr>\n",
       "    <tr>\n",
       "      <th>4</th>\n",
       "      <td>123</td>\n",
       "      <td>0.056911</td>\n",
       "    </tr>\n",
       "    <tr>\n",
       "      <th>5</th>\n",
       "      <td>280</td>\n",
       "      <td>0.064286</td>\n",
       "    </tr>\n",
       "    <tr>\n",
       "      <th>6</th>\n",
       "      <td>51</td>\n",
       "      <td>0.156863</td>\n",
       "    </tr>\n",
       "  </tbody>\n",
       "</table>\n",
       "</div>"
      ],
      "text/plain": [
       "          default          \n",
       "            count      mean\n",
       "EDUCATION                  \n",
       "0              14  0.000000\n",
       "1           10585  0.192348\n",
       "2           14030  0.237349\n",
       "3            4917  0.251576\n",
       "4             123  0.056911\n",
       "5             280  0.064286\n",
       "6              51  0.156863"
      ]
     },
     "execution_count": 137,
     "metadata": {},
     "output_type": "execute_result"
    }
   ],
   "source": [
    "credit[[\"EDUCATION\", \"default\"]].groupby(['EDUCATION']).agg({'default': ['count','mean']})\n",
    "#Education:\n",
    "#1 = Graduate\n",
    "#2 = University\n",
    "#3 = High School\n",
    "#4 = Others\n",
    "#0, 5, 6 = Others  **from additional data in forum\n",
    "\n",
    "#This shows some differences, but not big ones from the 3 defined classifications.  Slight bias of higher ed = lower default\n",
    "#Could be due to other factors\n",
    "#'Others' so ill defined, I wouldn't draw much conclusion from its lower default rates"
   ]
  },
  {
   "cell_type": "code",
   "execution_count": 140,
   "metadata": {},
   "outputs": [
    {
     "data": {
      "text/html": [
       "<div>\n",
       "<style scoped>\n",
       "    .dataframe tbody tr th:only-of-type {\n",
       "        vertical-align: middle;\n",
       "    }\n",
       "\n",
       "    .dataframe tbody tr th {\n",
       "        vertical-align: top;\n",
       "    }\n",
       "\n",
       "    .dataframe thead tr th {\n",
       "        text-align: left;\n",
       "    }\n",
       "\n",
       "    .dataframe thead tr:last-of-type th {\n",
       "        text-align: right;\n",
       "    }\n",
       "</style>\n",
       "<table border=\"1\" class=\"dataframe\">\n",
       "  <thead>\n",
       "    <tr>\n",
       "      <th></th>\n",
       "      <th colspan=\"2\" halign=\"left\">default</th>\n",
       "    </tr>\n",
       "    <tr>\n",
       "      <th></th>\n",
       "      <th>count</th>\n",
       "      <th>mean</th>\n",
       "    </tr>\n",
       "    <tr>\n",
       "      <th>MARRIAGE</th>\n",
       "      <th></th>\n",
       "      <th></th>\n",
       "    </tr>\n",
       "  </thead>\n",
       "  <tbody>\n",
       "    <tr>\n",
       "      <th>0</th>\n",
       "      <td>54</td>\n",
       "      <td>0.092593</td>\n",
       "    </tr>\n",
       "    <tr>\n",
       "      <th>1</th>\n",
       "      <td>13659</td>\n",
       "      <td>0.234717</td>\n",
       "    </tr>\n",
       "    <tr>\n",
       "      <th>2</th>\n",
       "      <td>15964</td>\n",
       "      <td>0.209283</td>\n",
       "    </tr>\n",
       "    <tr>\n",
       "      <th>3</th>\n",
       "      <td>323</td>\n",
       "      <td>0.260062</td>\n",
       "    </tr>\n",
       "  </tbody>\n",
       "</table>\n",
       "</div>"
      ],
      "text/plain": [
       "         default          \n",
       "           count      mean\n",
       "MARRIAGE                  \n",
       "0             54  0.092593\n",
       "1          13659  0.234717\n",
       "2          15964  0.209283\n",
       "3            323  0.260062"
      ]
     },
     "execution_count": 140,
     "metadata": {},
     "output_type": "execute_result"
    }
   ],
   "source": [
    "credit[[\"MARRIAGE\", \"default\"]].groupby(['MARRIAGE']).agg({'default': ['count','mean']})\n",
    "#Marriage:\n",
    "#1 = Married\n",
    "#2 = Single\n",
    "#3 = Others\n",
    "#From forum addendum:\n",
    "#3 = Divorce\n",
    "#0 = Others\n",
    "\n",
    "#Similar to education, some differences but not major\n",
    "#Ignoring others, default risk divorced > married > single"
   ]
  },
  {
   "cell_type": "code",
   "execution_count": 141,
   "metadata": {},
   "outputs": [
    {
     "data": {
      "text/html": [
       "<div>\n",
       "<style scoped>\n",
       "    .dataframe tbody tr th:only-of-type {\n",
       "        vertical-align: middle;\n",
       "    }\n",
       "\n",
       "    .dataframe tbody tr th {\n",
       "        vertical-align: top;\n",
       "    }\n",
       "\n",
       "    .dataframe thead tr th {\n",
       "        text-align: left;\n",
       "    }\n",
       "\n",
       "    .dataframe thead tr:last-of-type th {\n",
       "        text-align: right;\n",
       "    }\n",
       "</style>\n",
       "<table border=\"1\" class=\"dataframe\">\n",
       "  <thead>\n",
       "    <tr>\n",
       "      <th></th>\n",
       "      <th colspan=\"2\" halign=\"left\">default</th>\n",
       "    </tr>\n",
       "    <tr>\n",
       "      <th></th>\n",
       "      <th>count</th>\n",
       "      <th>mean</th>\n",
       "    </tr>\n",
       "    <tr>\n",
       "      <th>AGE</th>\n",
       "      <th></th>\n",
       "      <th></th>\n",
       "    </tr>\n",
       "  </thead>\n",
       "  <tbody>\n",
       "    <tr>\n",
       "      <th>21</th>\n",
       "      <td>67</td>\n",
       "      <td>0.208955</td>\n",
       "    </tr>\n",
       "    <tr>\n",
       "      <th>22</th>\n",
       "      <td>560</td>\n",
       "      <td>0.301786</td>\n",
       "    </tr>\n",
       "    <tr>\n",
       "      <th>23</th>\n",
       "      <td>931</td>\n",
       "      <td>0.265306</td>\n",
       "    </tr>\n",
       "    <tr>\n",
       "      <th>24</th>\n",
       "      <td>1127</td>\n",
       "      <td>0.266193</td>\n",
       "    </tr>\n",
       "    <tr>\n",
       "      <th>25</th>\n",
       "      <td>1186</td>\n",
       "      <td>0.254637</td>\n",
       "    </tr>\n",
       "    <tr>\n",
       "      <th>26</th>\n",
       "      <td>1256</td>\n",
       "      <td>0.201433</td>\n",
       "    </tr>\n",
       "    <tr>\n",
       "      <th>27</th>\n",
       "      <td>1477</td>\n",
       "      <td>0.211916</td>\n",
       "    </tr>\n",
       "    <tr>\n",
       "      <th>28</th>\n",
       "      <td>1409</td>\n",
       "      <td>0.202981</td>\n",
       "    </tr>\n",
       "    <tr>\n",
       "      <th>29</th>\n",
       "      <td>1605</td>\n",
       "      <td>0.195016</td>\n",
       "    </tr>\n",
       "    <tr>\n",
       "      <th>30</th>\n",
       "      <td>1395</td>\n",
       "      <td>0.196416</td>\n",
       "    </tr>\n",
       "    <tr>\n",
       "      <th>31</th>\n",
       "      <td>1217</td>\n",
       "      <td>0.188168</td>\n",
       "    </tr>\n",
       "    <tr>\n",
       "      <th>32</th>\n",
       "      <td>1158</td>\n",
       "      <td>0.194301</td>\n",
       "    </tr>\n",
       "    <tr>\n",
       "      <th>33</th>\n",
       "      <td>1146</td>\n",
       "      <td>0.187609</td>\n",
       "    </tr>\n",
       "    <tr>\n",
       "      <th>34</th>\n",
       "      <td>1162</td>\n",
       "      <td>0.198795</td>\n",
       "    </tr>\n",
       "    <tr>\n",
       "      <th>35</th>\n",
       "      <td>1113</td>\n",
       "      <td>0.203055</td>\n",
       "    </tr>\n",
       "    <tr>\n",
       "      <th>36</th>\n",
       "      <td>1108</td>\n",
       "      <td>0.229242</td>\n",
       "    </tr>\n",
       "    <tr>\n",
       "      <th>37</th>\n",
       "      <td>1041</td>\n",
       "      <td>0.219981</td>\n",
       "    </tr>\n",
       "    <tr>\n",
       "      <th>38</th>\n",
       "      <td>944</td>\n",
       "      <td>0.205508</td>\n",
       "    </tr>\n",
       "    <tr>\n",
       "      <th>39</th>\n",
       "      <td>954</td>\n",
       "      <td>0.208595</td>\n",
       "    </tr>\n",
       "    <tr>\n",
       "      <th>40</th>\n",
       "      <td>870</td>\n",
       "      <td>0.214943</td>\n",
       "    </tr>\n",
       "    <tr>\n",
       "      <th>41</th>\n",
       "      <td>824</td>\n",
       "      <td>0.224515</td>\n",
       "    </tr>\n",
       "    <tr>\n",
       "      <th>42</th>\n",
       "      <td>794</td>\n",
       "      <td>0.232997</td>\n",
       "    </tr>\n",
       "    <tr>\n",
       "      <th>43</th>\n",
       "      <td>670</td>\n",
       "      <td>0.223881</td>\n",
       "    </tr>\n",
       "    <tr>\n",
       "      <th>44</th>\n",
       "      <td>700</td>\n",
       "      <td>0.231429</td>\n",
       "    </tr>\n",
       "    <tr>\n",
       "      <th>45</th>\n",
       "      <td>617</td>\n",
       "      <td>0.188006</td>\n",
       "    </tr>\n",
       "    <tr>\n",
       "      <th>46</th>\n",
       "      <td>570</td>\n",
       "      <td>0.275439</td>\n",
       "    </tr>\n",
       "    <tr>\n",
       "      <th>47</th>\n",
       "      <td>501</td>\n",
       "      <td>0.239521</td>\n",
       "    </tr>\n",
       "    <tr>\n",
       "      <th>48</th>\n",
       "      <td>466</td>\n",
       "      <td>0.223176</td>\n",
       "    </tr>\n",
       "    <tr>\n",
       "      <th>49</th>\n",
       "      <td>452</td>\n",
       "      <td>0.263274</td>\n",
       "    </tr>\n",
       "    <tr>\n",
       "      <th>50</th>\n",
       "      <td>411</td>\n",
       "      <td>0.245742</td>\n",
       "    </tr>\n",
       "    <tr>\n",
       "      <th>51</th>\n",
       "      <td>340</td>\n",
       "      <td>0.258824</td>\n",
       "    </tr>\n",
       "    <tr>\n",
       "      <th>52</th>\n",
       "      <td>304</td>\n",
       "      <td>0.256579</td>\n",
       "    </tr>\n",
       "    <tr>\n",
       "      <th>53</th>\n",
       "      <td>325</td>\n",
       "      <td>0.227692</td>\n",
       "    </tr>\n",
       "    <tr>\n",
       "      <th>54</th>\n",
       "      <td>247</td>\n",
       "      <td>0.226721</td>\n",
       "    </tr>\n",
       "    <tr>\n",
       "      <th>55</th>\n",
       "      <td>209</td>\n",
       "      <td>0.272727</td>\n",
       "    </tr>\n",
       "    <tr>\n",
       "      <th>56</th>\n",
       "      <td>178</td>\n",
       "      <td>0.275281</td>\n",
       "    </tr>\n",
       "    <tr>\n",
       "      <th>57</th>\n",
       "      <td>122</td>\n",
       "      <td>0.221311</td>\n",
       "    </tr>\n",
       "    <tr>\n",
       "      <th>58</th>\n",
       "      <td>122</td>\n",
       "      <td>0.254098</td>\n",
       "    </tr>\n",
       "    <tr>\n",
       "      <th>59</th>\n",
       "      <td>83</td>\n",
       "      <td>0.253012</td>\n",
       "    </tr>\n",
       "    <tr>\n",
       "      <th>60</th>\n",
       "      <td>67</td>\n",
       "      <td>0.343284</td>\n",
       "    </tr>\n",
       "    <tr>\n",
       "      <th>61</th>\n",
       "      <td>56</td>\n",
       "      <td>0.375000</td>\n",
       "    </tr>\n",
       "    <tr>\n",
       "      <th>62</th>\n",
       "      <td>44</td>\n",
       "      <td>0.159091</td>\n",
       "    </tr>\n",
       "    <tr>\n",
       "      <th>63</th>\n",
       "      <td>31</td>\n",
       "      <td>0.258065</td>\n",
       "    </tr>\n",
       "    <tr>\n",
       "      <th>64</th>\n",
       "      <td>31</td>\n",
       "      <td>0.290323</td>\n",
       "    </tr>\n",
       "    <tr>\n",
       "      <th>65</th>\n",
       "      <td>24</td>\n",
       "      <td>0.208333</td>\n",
       "    </tr>\n",
       "    <tr>\n",
       "      <th>66</th>\n",
       "      <td>25</td>\n",
       "      <td>0.280000</td>\n",
       "    </tr>\n",
       "    <tr>\n",
       "      <th>67</th>\n",
       "      <td>16</td>\n",
       "      <td>0.312500</td>\n",
       "    </tr>\n",
       "    <tr>\n",
       "      <th>68</th>\n",
       "      <td>5</td>\n",
       "      <td>0.200000</td>\n",
       "    </tr>\n",
       "    <tr>\n",
       "      <th>69</th>\n",
       "      <td>15</td>\n",
       "      <td>0.200000</td>\n",
       "    </tr>\n",
       "    <tr>\n",
       "      <th>70</th>\n",
       "      <td>10</td>\n",
       "      <td>0.200000</td>\n",
       "    </tr>\n",
       "    <tr>\n",
       "      <th>71</th>\n",
       "      <td>3</td>\n",
       "      <td>0.000000</td>\n",
       "    </tr>\n",
       "    <tr>\n",
       "      <th>72</th>\n",
       "      <td>3</td>\n",
       "      <td>0.333333</td>\n",
       "    </tr>\n",
       "    <tr>\n",
       "      <th>73</th>\n",
       "      <td>4</td>\n",
       "      <td>0.750000</td>\n",
       "    </tr>\n",
       "    <tr>\n",
       "      <th>74</th>\n",
       "      <td>1</td>\n",
       "      <td>0.000000</td>\n",
       "    </tr>\n",
       "    <tr>\n",
       "      <th>75</th>\n",
       "      <td>3</td>\n",
       "      <td>0.333333</td>\n",
       "    </tr>\n",
       "    <tr>\n",
       "      <th>79</th>\n",
       "      <td>1</td>\n",
       "      <td>0.000000</td>\n",
       "    </tr>\n",
       "  </tbody>\n",
       "</table>\n",
       "</div>"
      ],
      "text/plain": [
       "    default          \n",
       "      count      mean\n",
       "AGE                  \n",
       "21       67  0.208955\n",
       "22      560  0.301786\n",
       "23      931  0.265306\n",
       "24     1127  0.266193\n",
       "25     1186  0.254637\n",
       "26     1256  0.201433\n",
       "27     1477  0.211916\n",
       "28     1409  0.202981\n",
       "29     1605  0.195016\n",
       "30     1395  0.196416\n",
       "31     1217  0.188168\n",
       "32     1158  0.194301\n",
       "33     1146  0.187609\n",
       "34     1162  0.198795\n",
       "35     1113  0.203055\n",
       "36     1108  0.229242\n",
       "37     1041  0.219981\n",
       "38      944  0.205508\n",
       "39      954  0.208595\n",
       "40      870  0.214943\n",
       "41      824  0.224515\n",
       "42      794  0.232997\n",
       "43      670  0.223881\n",
       "44      700  0.231429\n",
       "45      617  0.188006\n",
       "46      570  0.275439\n",
       "47      501  0.239521\n",
       "48      466  0.223176\n",
       "49      452  0.263274\n",
       "50      411  0.245742\n",
       "51      340  0.258824\n",
       "52      304  0.256579\n",
       "53      325  0.227692\n",
       "54      247  0.226721\n",
       "55      209  0.272727\n",
       "56      178  0.275281\n",
       "57      122  0.221311\n",
       "58      122  0.254098\n",
       "59       83  0.253012\n",
       "60       67  0.343284\n",
       "61       56  0.375000\n",
       "62       44  0.159091\n",
       "63       31  0.258065\n",
       "64       31  0.290323\n",
       "65       24  0.208333\n",
       "66       25  0.280000\n",
       "67       16  0.312500\n",
       "68        5  0.200000\n",
       "69       15  0.200000\n",
       "70       10  0.200000\n",
       "71        3  0.000000\n",
       "72        3  0.333333\n",
       "73        4  0.750000\n",
       "74        1  0.000000\n",
       "75        3  0.333333\n",
       "79        1  0.000000"
      ]
     },
     "execution_count": 141,
     "metadata": {},
     "output_type": "execute_result"
    }
   ],
   "source": [
    "credit[[\"AGE\", \"default\"]].groupby(['AGE']).agg({'default': ['count','mean']})\n",
    "#Looks like higher default at the initial young ages\n",
    "#Decreased in late 20s and 30s\n",
    "#Then increasing 40+"
   ]
  },
  {
   "cell_type": "code",
   "execution_count": 144,
   "metadata": {},
   "outputs": [
    {
     "data": {
      "text/plain": [
       "2.0"
      ]
     },
     "execution_count": 144,
     "metadata": {},
     "output_type": "execute_result"
    }
   ],
   "source": [
    "from scipy.stats import linregress\n",
    "test = linregress([1,2,3,4],[2,4,6,8]).slope\n",
    "test\n",
    "#May want to add some slope fields to show the change over time\n",
    "#Not sure where I want to add that yet\n",
    "#May want to add to our three amount types\n",
    "#Or may want to make 1-5 for our ratios and then add from the ratios, I think this makes most sense but will require more vars"
   ]
  },
  {
   "cell_type": "code",
   "execution_count": 147,
   "metadata": {},
   "outputs": [],
   "source": [
    "#let's discretize age into decade buckets\n",
    "import numpy as np"
   ]
  },
  {
   "cell_type": "code",
   "execution_count": 153,
   "metadata": {},
   "outputs": [],
   "source": [
    "credit['AgeBucket']=np.around(credit['AGE']/10,0)\n",
    "#tried without /10, but with -1, and it didn't seem to work"
   ]
  },
  {
   "cell_type": "code",
   "execution_count": 154,
   "metadata": {},
   "outputs": [
    {
     "data": {
      "text/plain": [
       "<matplotlib.axes._subplots.AxesSubplot at 0x11d46dd8>"
      ]
     },
     "execution_count": 154,
     "metadata": {},
     "output_type": "execute_result"
    },
    {
     "data": {
      "image/png": "[encoded data removed]",
      "text/plain": [
       "<matplotlib.figure.Figure at 0x11c61550>"
      ]
     },
     "metadata": {},
     "output_type": "display_data"
    }
   ],
   "source": [
    "credit.AgeBucket.plot.hist()\n",
    "#this is what I was looking forish"
   ]
  },
  {
   "cell_type": "code",
   "execution_count": 155,
   "metadata": {},
   "outputs": [],
   "source": [
    "#I've made several new variables from the existing variables, but want to create at least one slope variable\n",
    "#something that could show whether a person is slipping or catching up\n",
    "#let's start with something simple.  Does billing amount get higher or lower over the period?\n",
    "#Then let's normalize it by the overall credit limit\n",
    "\n",
    "#Latest billing amount minus earliest, all divided by credit limit\n",
    "#Negative ratios - they are paying down the debt\n",
    "#Positive - they are increasing in debt\n",
    "credit['BillTrend']=(credit['BILL_AMT1'] - credit['BILL_AMT6'])/credit['LIMIT_BAL']\n",
    "\n",
    "#Later, if needed, we could try to add more trend variables"
   ]
  },
  {
   "cell_type": "code",
   "execution_count": 156,
   "metadata": {},
   "outputs": [
    {
     "data": {
      "text/plain": [
       "<matplotlib.axes._subplots.AxesSubplot at 0x11dbac50>"
      ]
     },
     "execution_count": 156,
     "metadata": {},
     "output_type": "execute_result"
    },
    {
     "data": {
      "image/png": "[encoded data removed]",
      "text/plain": [
       "<matplotlib.figure.Figure at 0x11d5e2e8>"
      ]
     },
     "metadata": {},
     "output_type": "display_data"
    }
   ],
   "source": [
    "credit.BillTrend.plot.hist()\n",
    "#0 is breaking even.  Negative is good.  This shows that more people are increasing their debt than decreasing"
   ]
  },
  {
   "cell_type": "code",
   "execution_count": 157,
   "metadata": {},
   "outputs": [
    {
     "data": {
      "text/html": [
       "<div>\n",
       "<style scoped>\n",
       "    .dataframe tbody tr th:only-of-type {\n",
       "        vertical-align: middle;\n",
       "    }\n",
       "\n",
       "    .dataframe tbody tr th {\n",
       "        vertical-align: top;\n",
       "    }\n",
       "\n",
       "    .dataframe thead tr th {\n",
       "        text-align: left;\n",
       "    }\n",
       "\n",
       "    .dataframe thead tr:last-of-type th {\n",
       "        text-align: right;\n",
       "    }\n",
       "</style>\n",
       "<table border=\"1\" class=\"dataframe\">\n",
       "  <thead>\n",
       "    <tr>\n",
       "      <th></th>\n",
       "      <th colspan=\"2\" halign=\"left\">default</th>\n",
       "    </tr>\n",
       "    <tr>\n",
       "      <th></th>\n",
       "      <th>count</th>\n",
       "      <th>mean</th>\n",
       "    </tr>\n",
       "    <tr>\n",
       "      <th>AgeBucket</th>\n",
       "      <th></th>\n",
       "      <th></th>\n",
       "    </tr>\n",
       "  </thead>\n",
       "  <tbody>\n",
       "    <tr>\n",
       "      <th>2.0</th>\n",
       "      <td>3871</td>\n",
       "      <td>0.266598</td>\n",
       "    </tr>\n",
       "    <tr>\n",
       "      <th>3.0</th>\n",
       "      <td>11825</td>\n",
       "      <td>0.197801</td>\n",
       "    </tr>\n",
       "    <tr>\n",
       "      <th>4.0</th>\n",
       "      <td>9635</td>\n",
       "      <td>0.216606</td>\n",
       "    </tr>\n",
       "    <tr>\n",
       "      <th>5.0</th>\n",
       "      <td>3616</td>\n",
       "      <td>0.248064</td>\n",
       "    </tr>\n",
       "    <tr>\n",
       "      <th>6.0</th>\n",
       "      <td>967</td>\n",
       "      <td>0.266805</td>\n",
       "    </tr>\n",
       "    <tr>\n",
       "      <th>7.0</th>\n",
       "      <td>82</td>\n",
       "      <td>0.268293</td>\n",
       "    </tr>\n",
       "    <tr>\n",
       "      <th>8.0</th>\n",
       "      <td>4</td>\n",
       "      <td>0.250000</td>\n",
       "    </tr>\n",
       "  </tbody>\n",
       "</table>\n",
       "</div>"
      ],
      "text/plain": [
       "          default          \n",
       "            count      mean\n",
       "AgeBucket                  \n",
       "2.0          3871  0.266598\n",
       "3.0         11825  0.197801\n",
       "4.0          9635  0.216606\n",
       "5.0          3616  0.248064\n",
       "6.0           967  0.266805\n",
       "7.0            82  0.268293\n",
       "8.0             4  0.250000"
      ]
     },
     "execution_count": 157,
     "metadata": {},
     "output_type": "execute_result"
    }
   ],
   "source": [
    "credit[[\"AgeBucket\", \"default\"]].groupby(['AgeBucket']).agg({'default': ['count','mean']})"
   ]
  },
  {
   "cell_type": "code",
   "execution_count": null,
   "metadata": {},
   "outputs": [],
   "source": []
  }
 ],
 "metadata": {
  "kernelspec": {
   "display_name": "Python 3",
   "language": "python",
   "name": "python3"
  },
  "language_info": {
   "codemirror_mode": {
    "name": "ipython",
    "version": 3
   },
   "file_extension": ".py",
   "mimetype": "text/x-python",
   "name": "python",
   "nbconvert_exporter": "python",
   "pygments_lexer": "ipython3",
   "version": "3.6.4"
  }
 },
 "nbformat": 4,
 "nbformat_minor": 2
}
